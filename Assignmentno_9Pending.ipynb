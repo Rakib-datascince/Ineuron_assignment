{
  "nbformat": 4,
  "nbformat_minor": 0,
  "metadata": {
    "colab": {
      "provenance": [],
      "authorship_tag": "ABX9TyMRVG6ZKRpWRC0yqHVNXOIR",
      "include_colab_link": true
    },
    "kernelspec": {
      "name": "python3",
      "display_name": "Python 3"
    },
    "language_info": {
      "name": "python"
    }
  },
  "cells": [
    {
      "cell_type": "markdown",
      "metadata": {
        "id": "view-in-github",
        "colab_type": "text"
      },
      "source": [
        "<a href=\"https://colab.research.google.com/github/Rakib-datascince/Ineuron_assignment/blob/main/Assignmentno_9Pending.ipynb\" target=\"_parent\"><img src=\"https://colab.research.google.com/assets/colab-badge.svg\" alt=\"Open In Colab\"/></a>"
      ]
    },
    {
      "cell_type": "code",
      "execution_count": null,
      "metadata": {
        "id": "26hpCM7iY4B3"
      },
      "outputs": [],
      "source": [
        "\"\"\"\"\n",
        "Ques no.1 To what does a relative path refer ?\n",
        "Ans:- The relative path is the path to some file with respect to your current working directory(PWD).\n",
        "      For example :- If Absolute path to a file called stuff.txt is:\n",
        "      C:/users/admin/docs/stuff.txt if my PWD is C:/users/admin/, then the relative path to stuff.txt would be: docs/stuff.txt\n",
        "      Note:- PWD + ralative path = absolute path\n",
        "\n",
        "Ques no.2 Where does an absolute path start with your Operating system ?\n",
        "Ans:- In linux based systems the absolute path starts with/. Where as in Windows based system absolute path starts with C:\n",
        "\n",
        "Ques no.3 What does the fucntion os.getcwd() and os.chidr() do ?\n",
        "Ans:- os.getcwd() method tells us the location of current working directory (CWD) . Whereas os.chdir() method in Python used to change the current working directory to \n",
        "      specified path. These functions are similar to linux commands pwd and cd\n",
        "\n",
        "\n",
        "\"\"\"\""
      ]
    },
    {
      "cell_type": "code",
      "source": [
        "import os\n",
        "print(os.getcwd())"
      ],
      "metadata": {
        "colab": {
          "base_uri": "https://localhost:8080/"
        },
        "id": "A5EOiCM4bgXS",
        "outputId": "922d972b-eed6-4791-998b-71cb97e40119"
      },
      "execution_count": null,
      "outputs": [
        {
          "output_type": "stream",
          "name": "stdout",
          "text": [
            "/content\n"
          ]
        }
      ]
    },
    {
      "cell_type": "code",
      "source": [
        "\"\"\"\n",
        "Ques no.4 What are . and .. folders ?\n",
        "Ans:- .Represent the current directory and .. represents the parent directory of the current directory.\n",
        "      For Example:-if the below path is my absolute path:\n",
        "      C:\\\\Users\\\\vishnu\\\\Documents\\\\ineureon\n",
        "\n",
        "\n",
        "Ques no.5 In C:\\bacon\\eggs\\spam\\.txt which part is the dir name and which part is the base name ?\n",
        "Ans:- For C:\\bacon\\eggs\\spam.txt\n",
        "      The dir name is C:\\\\bacon\\\\eggs\n",
        "      The Base name is spam.txt\n",
        "\n",
        "\"\"\""
      ],
      "metadata": {
        "id": "N0NPpED6bzCh"
      },
      "execution_count": null,
      "outputs": []
    },
    {
      "cell_type": "code",
      "source": [
        "import os\n",
        "path = r'C:\\bacon\\eggs\\spam.txt'\n",
        "print(os.path.dirname(path))\n",
        " \n",
        "print(os.path.basename(path))\n"
      ],
      "metadata": {
        "colab": {
          "base_uri": "https://localhost:8080/"
        },
        "id": "2XGHrZ0JdsEb",
        "outputId": "7d4d4ab2-fce6-4076-c5ad-93c95591617b"
      },
      "execution_count": null,
      "outputs": [
        {
          "output_type": "stream",
          "name": "stdout",
          "text": [
            "\n",
            "C:\\bacon\\eggs\\spam.txt\n"
          ]
        }
      ]
    },
    {
      "cell_type": "code",
      "source": [
        "\"\"\"\n",
        "Ques no.6 What are the three mode arguments that can be passed to the open() function ?\n",
        "Ans:- A file can be Accessed in python using open() function . open fucntions takes two arguments filename and mode of operation (optional). If mode is not provided the \n",
        "      default mode of opening is ldde: With this mode the user can append the data without overwrite any already existing data in the file .\n",
        "      #'a+' Append and Read : In this mode you can read and append the data without overwrite the original file . \n",
        "      #'x' Exclussive Creating Mode : This mode is for the sole purpose of creating new files. Use this mode if you know the file to be written doesn't exist beforehand.\n",
        "\n",
        "\n",
        "Ques no.7 What happens if an existing file is opened in write mode ?\n",
        "Ans:- Using this mode will overwrite any existing content in a file . If the given file does not exist, a new one will be created.\n",
        "\n",
        "Ques no.8 How do you tell difference between read() and readlines() ?\n",
        "Ans:- The main difference between is that read() will read the whole file at once and the print out the first characters that take up as many bytes as you specify in the \n",
        "      parenthesis \n",
        "      #Whereas the readline() that will read and print out only first characters readline() that take up as many bytes as you specify in the parenthesis . You may want to \n",
        "        use readline() when you're reading files that are too big for you RAM.\n",
        "      #The Read() would treat each character in the file separately , meaning that teh iteration would happen for every character.\n",
        "      #The Readline() function, on the ohter hand , only reads a single line of the file . This means that if the first line of the file were three lines long, the readline()\n",
        "       function would only parse (or iterate/operate) on the first line of the file.\n",
        "\n",
        "Ques no.9 What data structure does a shelf vlaue resemble ?\n",
        "Ans:- It contains key and values it respresents dictionary.\n",
        "\"\"\""
      ],
      "metadata": {
        "id": "qpWuoUV_eJLw"
      },
      "execution_count": null,
      "outputs": []
    },
    {
      "cell_type": "code",
      "source": [],
      "metadata": {
        "id": "uwdZ9S71eZg4"
      },
      "execution_count": null,
      "outputs": []
    }
  ]
}