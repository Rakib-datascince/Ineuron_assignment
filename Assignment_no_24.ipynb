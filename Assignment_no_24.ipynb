{
  "nbformat": 4,
  "nbformat_minor": 0,
  "metadata": {
    "colab": {
      "provenance": [],
      "authorship_tag": "ABX9TyO64vYU+RpuaVj/zxCUuXxu",
      "include_colab_link": true
    },
    "kernelspec": {
      "name": "python3",
      "display_name": "Python 3"
    },
    "language_info": {
      "name": "python"
    }
  },
  "cells": [
    {
      "cell_type": "markdown",
      "metadata": {
        "id": "view-in-github",
        "colab_type": "text"
      },
      "source": [
        "<a href=\"https://colab.research.google.com/github/Rakib-datascince/Ineuron_assignment/blob/main/Assignment_no_24.ipynb\" target=\"_parent\"><img src=\"https://colab.research.google.com/assets/colab-badge.svg\" alt=\"Open In Colab\"/></a>"
      ]
    },
    {
      "cell_type": "code",
      "execution_count": 1,
      "metadata": {
        "colab": {
          "base_uri": "https://localhost:8080/",
          "height": 122
        },
        "id": "ETA578FyYwKj",
        "outputId": "593c2ff0-ce31-42cb-d9fe-ce16553b23f5"
      },
      "outputs": [
        {
          "output_type": "execute_result",
          "data": {
            "text/plain": [
              "\"1. What is the relationship between def statements and lambda expressions ?\\nAns: def statement is used to create a normal function. where as lamba expressions are used to create Anonymous functions. which can be assigned to a variable and can be called using \\n      the variable later in function.\\n\\nLambda's body is a single expression and not a block of statements like def statement. The lambda expression's body is similar to what we'd put in a def body's return statement. \\nWe simply type the result as an expression instead of explicitly returning it. Because it is limited to an expression, a lambda is less general than a def statement.\\n\\n2. What is the benefit of lambda?\\nAns: The following are some of the benefits of lambda expressions:\\n\\nCan be used to create Nameless/Anonymous functions inside some complex functions if we are planning to use it only once.\\nModerate to small functions can be created in a single line\\nFuctions created using lambda expressions can be assigned to a variable and can be used by simply calling the variable\\n3. Compare and contrast map, filter, and reduce.\\nAns: The differences between map, filter and reduce are:\\n\\nmap(): The map() function is a type of higher-order. This function takes another function as a parameter\\nalong with a sequence of iterables and returns an output after applying the function to each iterable present in the sequence. 2. filter(): The filter() function is used to create an \\noutput list consisting of values for which the function returns true. 3. reduce(): The reduce() function, as the name describes, applies a given function to the iterables and returns \\na single value\""
            ],
            "application/vnd.google.colaboratory.intrinsic+json": {
              "type": "string"
            }
          },
          "metadata": {},
          "execution_count": 1
        }
      ],
      "source": [
        "\"\"\"1. What is the relationship between def statements and lambda expressions ?\n",
        "Ans: def statement is used to create a normal function. where as lamba expressions are used to create Anonymous functions. which can be assigned to a variable and can be called using \n",
        "      the variable later in function.\n",
        "\n",
        "Lambda's body is a single expression and not a block of statements like def statement. The lambda expression's body is similar to what we'd put in a def body's return statement. \n",
        "We simply type the result as an expression instead of explicitly returning it. Because it is limited to an expression, a lambda is less general than a def statement.\n",
        "\n",
        "2. What is the benefit of lambda?\n",
        "Ans: The following are some of the benefits of lambda expressions:\n",
        "\n",
        "Can be used to create Nameless/Anonymous functions inside some complex functions if we are planning to use it only once.\n",
        "Moderate to small functions can be created in a single line\n",
        "Fuctions created using lambda expressions can be assigned to a variable and can be used by simply calling the variable\n",
        "3. Compare and contrast map, filter, and reduce.\n",
        "Ans: The differences between map, filter and reduce are:\n",
        "\n",
        "map(): The map() function is a type of higher-order. This function takes another function as a parameter\n",
        "along with a sequence of iterables and returns an output after applying the function to each iterable present in the sequence. 2. filter(): The filter() function is used to create an \n",
        "output list consisting of values for which the function returns true. 3. reduce(): The reduce() function, as the name describes, applies a given function to the iterables and returns \n",
        "a single value\"\"\""
      ]
    },
    {
      "cell_type": "code",
      "source": [
        "from functools import reduce\n",
        "# map function\n",
        "print('Map ->',list(map(lambda x:x+x, [1,2,3,4])))\n",
        "# fitler function\n",
        "print('Filter ->',list(filter(lambda x:x%2 !=0, [1,2,3,4])))\n",
        "# reduce function\n",
        "print('Reduce ->',reduce(lambda x,y:x+y, [1,2,3,4,5,6]))"
      ],
      "metadata": {
        "colab": {
          "base_uri": "https://localhost:8080/"
        },
        "id": "hR3v9TVVY7DM",
        "outputId": "36fcfa46-c821-439e-88f9-ac80357ffb99"
      },
      "execution_count": 2,
      "outputs": [
        {
          "output_type": "stream",
          "name": "stdout",
          "text": [
            "Map -> [2, 4, 6, 8]\n",
            "Filter -> [1, 3]\n",
            "Reduce -> 21\n"
          ]
        }
      ]
    },
    {
      "cell_type": "code",
      "source": [
        "\"\"\"4. What are function annotations, and how are they used?\n",
        "Ans: Function annotations provide a way of associating various parts of a function with arbitrary pythoncexpressions at compile time.\n",
        "Annotations of simple parameters def func(x: expression, y: expression = 20):\n",
        "Whereas the annotations for excess parameters are as − def func (**args: expression, **kwargs: expression):\n",
        "\n",
        "5. What are recursive functions, and how are they used?\n",
        "Ans: A recursive function is a function that calls itself during its execution. The process may repeat several times, outputting the result and the end of each iteration.\n",
        "\n",
        "6. What are some general design guidelines for coding functions?\n",
        "Ans: Some of the general design guidelines for coding functions are:\n",
        "\n",
        "Always use a docstring to explain the functionality of the function\n",
        "avoid using or limited use of global variables\n",
        "Proper Identation to increase the code readability\n",
        "try to follow a naming convention for function names (pascalCase or camelCase) and stick with the same convention throughout the application.\n",
        "Avoid using digits while choosing a variable name\n",
        "try to use a name for the function which conveys the purpose of the function\n",
        "Local variables should be named using camelCase format (ex: localVariable) whereas Global variables names should be using PascalCase (ex:GlobalVariable).\n",
        "Constant should be represented in allcaps (ex:CONSTANT).\n",
        "7. Name three or more ways that functions can communicate results to a caller.\n",
        "Ans: Some of the ways in which a function can communicate with the calling function is:\n",
        "\n",
        "print\n",
        "return\n",
        "yield\"\"\""
      ],
      "metadata": {
        "id": "pZsKn6VvZCKb"
      },
      "execution_count": null,
      "outputs": []
    }
  ]
}