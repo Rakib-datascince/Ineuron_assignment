{
  "nbformat": 4,
  "nbformat_minor": 0,
  "metadata": {
    "colab": {
      "provenance": [],
      "authorship_tag": "ABX9TyNR2batT6zeJRQtp1zi3waD",
      "include_colab_link": true
    },
    "kernelspec": {
      "name": "python3",
      "display_name": "Python 3"
    },
    "language_info": {
      "name": "python"
    }
  },
  "cells": [
    {
      "cell_type": "markdown",
      "metadata": {
        "id": "view-in-github",
        "colab_type": "text"
      },
      "source": [
        "<a href=\"https://colab.research.google.com/github/Rakib-datascince/Ineuron_assignment/blob/main/Assignment_no_17.ipynb\" target=\"_parent\"><img src=\"https://colab.research.google.com/assets/colab-badge.svg\" alt=\"Open In Colab\"/></a>"
      ]
    },
    {
      "cell_type": "code",
      "source": [
        "\"\"\"1. Assign the value 7 to the variable guess_me. Then, write the conditional tests (if, else, and elif) to print the string 'too low' if guess_me is less than 7, \n",
        "    'too high' if greater than 7, and 'just right' if equal to 7.\"\"\""
      ],
      "metadata": {
        "colab": {
          "base_uri": "https://localhost:8080/",
          "height": 53
        },
        "id": "s7LIX9N2Rzkh",
        "outputId": "6106da67-ad7c-4736-f2d1-db092c0f6a3c"
      },
      "execution_count": 15,
      "outputs": [
        {
          "output_type": "execute_result",
          "data": {
            "text/plain": [
              "\"1. Assign the value 7 to the variable guess_me. Then, write the conditional tests (if, else, and elif) to print the string 'too low' if guess_me is less than 7, \\n    'too high' if greater than 7, and 'just right' if equal to 7.\""
            ],
            "application/vnd.google.colaboratory.intrinsic+json": {
              "type": "string"
            }
          },
          "metadata": {},
          "execution_count": 15
        }
      ]
    },
    {
      "cell_type": "code",
      "source": [
        "def guess_me(guess_me):\n",
        "    if guess_me < 7:\n",
        "        print('too Low')\n",
        "    elif guess_me > 7:\n",
        "        print('too High')\n",
        "    else:\n",
        "        print('just Right')\n",
        "\n",
        "guess_me(guess_me=7)\n",
        "guess_me(guess_me=5)\n",
        "guess_me(guess_me=15)"
      ],
      "metadata": {
        "colab": {
          "base_uri": "https://localhost:8080/"
        },
        "id": "2NUFE1cxTbgW",
        "outputId": "49b21ee5-6b70-4bbd-ee12-5bba2c911a33"
      },
      "execution_count": 16,
      "outputs": [
        {
          "output_type": "stream",
          "name": "stdout",
          "text": [
            "just Right\n",
            "too Low\n",
            "too High\n"
          ]
        }
      ]
    },
    {
      "cell_type": "code",
      "source": [
        "\"\"\"2. Assign the value 7 to the variable guess_me and the value 1 to the variable start. Write a while loop that compares start with guess_me. Print too low if start is less \n",
        "   than guess me. If start equals guess_me, print 'found it!' and exit the loop. If start is greater than guess_me, print 'oops' and exit the loop. Increment start at the end of the loop\"\"\""
      ],
      "metadata": {
        "colab": {
          "base_uri": "https://localhost:8080/",
          "height": 53
        },
        "id": "kHjuDYZtTdqb",
        "outputId": "0f6ba770-4659-4232-bddc-25adf008d457"
      },
      "execution_count": 17,
      "outputs": [
        {
          "output_type": "execute_result",
          "data": {
            "text/plain": [
              "\"2. Assign the value 7 to the variable guess_me and the value 1 to the variable start. Write a while loop that compares start with guess_me. Print too low if start is less \\n   than guess me. If start equals guess_me, print 'found it!' and exit the loop. If start is greater than guess_me, print 'oops' and exit the loop. Increment start at the end of the loop\""
            ],
            "application/vnd.google.colaboratory.intrinsic+json": {
              "type": "string"
            }
          },
          "metadata": {},
          "execution_count": 17
        }
      ]
    },
    {
      "cell_type": "code",
      "source": [
        "guess_me = 7\n",
        "start = 1\n",
        "while True:\n",
        "    if start < guess_me:\n",
        "        print('too low')\n",
        "    elif start == guess_me:\n",
        "        print('found it')\n",
        "        break\n",
        "    else:\n",
        "        print('oops')\n",
        "        break\n",
        "    start += 1"
      ],
      "metadata": {
        "colab": {
          "base_uri": "https://localhost:8080/"
        },
        "id": "keBLMkgbTfna",
        "outputId": "444f6572-e864-4d0f-ff6c-f28721b8afe8"
      },
      "execution_count": 18,
      "outputs": [
        {
          "output_type": "stream",
          "name": "stdout",
          "text": [
            "too low\n",
            "too low\n",
            "too low\n",
            "too low\n",
            "too low\n",
            "too low\n",
            "found it\n"
          ]
        }
      ]
    },
    {
      "cell_type": "code",
      "source": [
        "#3. Print the following values of the list [3, 2, 1, 0] using a for loop."
      ],
      "metadata": {
        "id": "PQUpT9BpThjL"
      },
      "execution_count": 19,
      "outputs": []
    },
    {
      "cell_type": "code",
      "source": [
        "in_list = [3,2,1,0]\n",
        "for ele in in_list:\n",
        "    print(ele)"
      ],
      "metadata": {
        "colab": {
          "base_uri": "https://localhost:8080/"
        },
        "id": "pmJvHCUxTjra",
        "outputId": "120d1122-3fe9-47a2-ac09-831ea24dd1db"
      },
      "execution_count": 20,
      "outputs": [
        {
          "output_type": "stream",
          "name": "stdout",
          "text": [
            "3\n",
            "2\n",
            "1\n",
            "0\n"
          ]
        }
      ]
    },
    {
      "cell_type": "code",
      "source": [
        "#4. Use a list comprehension to make a list of the even numbers in range(10)"
      ],
      "metadata": {
        "id": "Uq8vOU5GTmky"
      },
      "execution_count": 21,
      "outputs": []
    },
    {
      "cell_type": "code",
      "source": [
        "print([x for x in range(10+1) if x%2==0 ])"
      ],
      "metadata": {
        "colab": {
          "base_uri": "https://localhost:8080/"
        },
        "id": "uguuhE5JTomC",
        "outputId": "7192299f-9123-4e33-a04a-0102efea494f"
      },
      "execution_count": 22,
      "outputs": [
        {
          "output_type": "stream",
          "name": "stdout",
          "text": [
            "[0, 2, 4, 6, 8, 10]\n"
          ]
        }
      ]
    },
    {
      "cell_type": "code",
      "source": [
        "#5. Use a dictionary comprehension to create the dictionary squares. Use range(10) to return the keys, and use the square of each key as its value."
      ],
      "metadata": {
        "id": "4TeBm-58TrPy"
      },
      "execution_count": 23,
      "outputs": []
    },
    {
      "cell_type": "code",
      "source": [
        "# Method 1\n",
        "print(dict([(x,pow(x,2)) for x in range(10)]))\n",
        "# Method 2\n",
        "print({x:x**2 for x in range(10)})"
      ],
      "metadata": {
        "colab": {
          "base_uri": "https://localhost:8080/"
        },
        "id": "jG1hBKRGTtKq",
        "outputId": "8798a8dd-2ecd-45fb-9e1c-47ead9f703db"
      },
      "execution_count": 24,
      "outputs": [
        {
          "output_type": "stream",
          "name": "stdout",
          "text": [
            "{0: 0, 1: 1, 2: 4, 3: 9, 4: 16, 5: 25, 6: 36, 7: 49, 8: 64, 9: 81}\n",
            "{0: 0, 1: 1, 2: 4, 3: 9, 4: 16, 5: 25, 6: 36, 7: 49, 8: 64, 9: 81}\n"
          ]
        }
      ]
    },
    {
      "cell_type": "code",
      "source": [
        "\n",
        "#6. Construct the set odd from the odd numbers in the range using a set comprehension (10)."
      ],
      "metadata": {
        "id": "Q8uSuq7iTvfy"
      },
      "execution_count": 27,
      "outputs": []
    },
    {
      "cell_type": "code",
      "source": [
        "print({x for x in range(10) if x%2 !=0})"
      ],
      "metadata": {
        "colab": {
          "base_uri": "https://localhost:8080/"
        },
        "id": "D_exhB2hTyL6",
        "outputId": "43bd581b-700f-4675-ec6f-20ce39ae2324"
      },
      "execution_count": 28,
      "outputs": [
        {
          "output_type": "stream",
          "name": "stdout",
          "text": [
            "{1, 3, 5, 7, 9}\n"
          ]
        }
      ]
    },
    {
      "cell_type": "code",
      "source": [
        "#7. Use a generator comprehension to return the string 'Got ' and a number for the numbers in range(10). Iterate through this by using a for loop"
      ],
      "metadata": {
        "id": "JIWzOEJJT0Oq"
      },
      "execution_count": 29,
      "outputs": []
    },
    {
      "cell_type": "code",
      "source": [
        "gen_com = ('Got_'+str(x) for x in range(10))\n",
        "for ele in gen_com:\n",
        "    print(ele, end=' ')"
      ],
      "metadata": {
        "colab": {
          "base_uri": "https://localhost:8080/"
        },
        "id": "VvNE-_mwT2OS",
        "outputId": "8f855541-7fe5-44e5-bc40-7d4be8b1d54a"
      },
      "execution_count": 30,
      "outputs": [
        {
          "output_type": "stream",
          "name": "stdout",
          "text": [
            "Got_0 Got_1 Got_2 Got_3 Got_4 Got_5 Got_6 Got_7 Got_8 Got_9 "
          ]
        }
      ]
    },
    {
      "cell_type": "code",
      "source": [
        "#8. Define a function called good that returns the list ['Harry', 'Ron', 'Hermione']."
      ],
      "metadata": {
        "id": "xRGzP7ZjT4cZ"
      },
      "execution_count": 31,
      "outputs": []
    },
    {
      "cell_type": "code",
      "source": [
        "def good():\n",
        "    x =  ['Harry', 'Ron', 'Hermione']\n",
        "    return x\n",
        "print(good())"
      ],
      "metadata": {
        "colab": {
          "base_uri": "https://localhost:8080/"
        },
        "id": "pq6PIzxeT6b6",
        "outputId": "c32e8c7b-c5c9-4b9f-c5af-7e9d44eaa148"
      },
      "execution_count": 32,
      "outputs": [
        {
          "output_type": "stream",
          "name": "stdout",
          "text": [
            "['Harry', 'Ron', 'Hermione']\n"
          ]
        }
      ]
    },
    {
      "cell_type": "code",
      "source": [
        "#9. Define a generator function called get_odds that returns the odd numbers from range(10). Use a for loop to find and print the third value returned."
      ],
      "metadata": {
        "id": "TrC03JgeT8Oi"
      },
      "execution_count": 33,
      "outputs": []
    },
    {
      "cell_type": "code",
      "source": [
        "def get_odds():\n",
        "    output = []\n",
        "    for ele in range(10):\n",
        "        if ele%2 != 0:\n",
        "            output.append(ele)\n",
        "    yield output\n",
        "\n",
        "next(get_odds())[2]"
      ],
      "metadata": {
        "colab": {
          "base_uri": "https://localhost:8080/"
        },
        "id": "WHCs4BzOT9_S",
        "outputId": "a537176b-4d20-47a9-b6ab-49f2af9ac432"
      },
      "execution_count": 34,
      "outputs": [
        {
          "output_type": "execute_result",
          "data": {
            "text/plain": [
              "5"
            ]
          },
          "metadata": {},
          "execution_count": 34
        }
      ]
    },
    {
      "cell_type": "code",
      "source": [
        "#10. Define an exception called OopsException. Raise this exception to see what happens. Then write the code to catch this exception and print 'Caught an oops'."
      ],
      "metadata": {
        "id": "zZ5iyieTUA7b"
      },
      "execution_count": 35,
      "outputs": []
    },
    {
      "cell_type": "code",
      "source": [
        "class OopsException(Exception):\n",
        "    pass\n",
        "\n",
        "def test(input):\n",
        "    if input <0:\n",
        "        raise OopsException(a)\n",
        "try:\n",
        "    test(-100)\n",
        "except Exception as e:\n",
        "    print('Caught in Oops ->',e)"
      ],
      "metadata": {
        "colab": {
          "base_uri": "https://localhost:8080/"
        },
        "id": "5Qvw9HvFUC9z",
        "outputId": "18c5530f-d093-4b9e-c88c-b238c7565a8f"
      },
      "execution_count": 36,
      "outputs": [
        {
          "output_type": "stream",
          "name": "stdout",
          "text": [
            "Caught in Oops -> name 'a' is not defined\n"
          ]
        }
      ]
    },
    {
      "cell_type": "code",
      "source": [
        "#11. Use zip() to make a dictionary called movies that pairs these lists: titles = ['Creature of Habit', 'Crewel Fate'] and plots = ['A nun turns into a monster', 'A haunted yarn shop']."
      ],
      "metadata": {
        "id": "FazPNi5OUEu6"
      },
      "execution_count": 37,
      "outputs": []
    },
    {
      "cell_type": "code",
      "source": [
        "titles = ['Creature of Habit', 'Crewel Fate']\n",
        "plots = ['A nun turns into a monster', 'A haunted yarn shop']\n",
        "output = dict(zip(titles,plots))\n",
        "print(output)"
      ],
      "metadata": {
        "colab": {
          "base_uri": "https://localhost:8080/"
        },
        "id": "RT7CPLChUHK6",
        "outputId": "f1f30ce1-60b0-4358-fe6d-ee131cb7eee7"
      },
      "execution_count": 38,
      "outputs": [
        {
          "output_type": "stream",
          "name": "stdout",
          "text": [
            "{'Creature of Habit': 'A nun turns into a monster', 'Crewel Fate': 'A haunted yarn shop'}\n"
          ]
        }
      ]
    },
    {
      "cell_type": "code",
      "source": [],
      "metadata": {
        "id": "8ht_CrFlUZTZ"
      },
      "execution_count": null,
      "outputs": []
    }
  ]
}