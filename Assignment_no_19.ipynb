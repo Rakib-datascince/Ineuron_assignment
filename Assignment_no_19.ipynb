{
  "nbformat": 4,
  "nbformat_minor": 0,
  "metadata": {
    "colab": {
      "provenance": [],
      "authorship_tag": "ABX9TyNySPMRTLb+lymOwn4ickO9",
      "include_colab_link": true
    },
    "kernelspec": {
      "name": "python3",
      "display_name": "Python 3"
    },
    "language_info": {
      "name": "python"
    }
  },
  "cells": [
    {
      "cell_type": "markdown",
      "metadata": {
        "id": "view-in-github",
        "colab_type": "text"
      },
      "source": [
        "<a href=\"https://colab.research.google.com/github/Rakib-datascince/Ineuron_assignment/blob/main/Assignment_no_19.ipynb\" target=\"_parent\"><img src=\"https://colab.research.google.com/assets/colab-badge.svg\" alt=\"Open In Colab\"/></a>"
      ]
    },
    {
      "cell_type": "code",
      "execution_count": 1,
      "metadata": {
        "id": "DTmqcxzpUlR7"
      },
      "outputs": [],
      "source": [
        "#1. Make a class called Thing with no contents and print it. Then, create an object called example from this class and also print it. Are the printed values the same or different?"
      ]
    },
    {
      "cell_type": "code",
      "source": [
        "class Thing:\n",
        "    pass\n",
        "\n",
        "print(Thing)\n",
        "\n",
        "example = Thing()\n",
        "print(example)"
      ],
      "metadata": {
        "colab": {
          "base_uri": "https://localhost:8080/"
        },
        "id": "QpDbTEzwVMcq",
        "outputId": "f24fdc0a-9d42-43a7-e55e-7c662887655b"
      },
      "execution_count": 2,
      "outputs": [
        {
          "output_type": "stream",
          "name": "stdout",
          "text": [
            "<class '__main__.Thing'>\n",
            "<__main__.Thing object at 0x7f55a96cbf40>\n"
          ]
        }
      ]
    },
    {
      "cell_type": "code",
      "source": [
        "#2. Create a new class called Thing2 and add the value 'abc' to the letters class attribute. Letters should be printed."
      ],
      "metadata": {
        "id": "iVj5LmelVO-C"
      },
      "execution_count": 3,
      "outputs": []
    },
    {
      "cell_type": "code",
      "source": [
        "class Thing2:\n",
        "    letters = 'abc'\n",
        "    \n",
        "print(Thing2.letters)"
      ],
      "metadata": {
        "colab": {
          "base_uri": "https://localhost:8080/"
        },
        "id": "B5ue1kC2VRVI",
        "outputId": "bd453f62-88ea-4aa7-c8e7-52bc0aa8667b"
      },
      "execution_count": 4,
      "outputs": [
        {
          "output_type": "stream",
          "name": "stdout",
          "text": [
            "abc\n"
          ]
        }
      ]
    },
    {
      "cell_type": "code",
      "source": [
        "\"\"\"3. Make yet another class called, of course, Thing3. This time, assign the value 'xyz' to an instance (object) attribute called letters. Print letters. Do you need to \n",
        "      make an object from the class to do this?\"\"\""
      ],
      "metadata": {
        "colab": {
          "base_uri": "https://localhost:8080/",
          "height": 53
        },
        "id": "2TmG4SX0VTmb",
        "outputId": "90715315-40be-41c6-9f81-c706a732a81c"
      },
      "execution_count": 5,
      "outputs": [
        {
          "output_type": "execute_result",
          "data": {
            "text/plain": [
              "\"3. Make yet another class called, of course, Thing3. This time, assign the value 'xyz' to an instance (object) attribute called letters. Print letters. Do you need to \\n      make an object from the class to do this?\""
            ],
            "application/vnd.google.colaboratory.intrinsic+json": {
              "type": "string"
            }
          },
          "metadata": {},
          "execution_count": 5
        }
      ]
    },
    {
      "cell_type": "code",
      "source": [
        "class Thing3:    \n",
        "    def __init__(self):\n",
        "        self.letters = 'xyz'\n",
        "        \n",
        "try:        \n",
        "    print(Thing3.letters) # Will raise a syntax Error\n",
        "except:\n",
        "    my_thing = Thing3()\n",
        "    print(my_thing.letters)"
      ],
      "metadata": {
        "colab": {
          "base_uri": "https://localhost:8080/"
        },
        "id": "mSXSN9p-VWBR",
        "outputId": "ba6558d3-cb2f-4662-fc2e-f051552a567a"
      },
      "execution_count": 6,
      "outputs": [
        {
          "output_type": "stream",
          "name": "stdout",
          "text": [
            "xyz\n"
          ]
        }
      ]
    },
    {
      "cell_type": "code",
      "source": [
        "#4. Create an Element class with the instance attributes name, symbol, and number. Create a class object with the values 'Hydrogen,' 'H,' and 1."
      ],
      "metadata": {
        "id": "4JXZzdDQVYhB"
      },
      "execution_count": 7,
      "outputs": []
    },
    {
      "cell_type": "code",
      "source": [
        "class Element:   \n",
        "    def __init__(self, name, symbol, number):\n",
        "        self.name = name\n",
        "        self.symbol = symbol\n",
        "        self.number = number\n",
        "\n",
        "my_elements = Element('Hydrogen','H',1)"
      ],
      "metadata": {
        "id": "rCFpHwo5Vach"
      },
      "execution_count": 8,
      "outputs": []
    },
    {
      "cell_type": "code",
      "source": [
        "#5. Make a dictionary with these keys and values: 'name': 'Hydrogen', 'symbol': 'H', 'number': 1. Then, create an object called hydrogen from class Element using this dictionary."
      ],
      "metadata": {
        "id": "gw-oQaelVcZ0"
      },
      "execution_count": 9,
      "outputs": []
    },
    {
      "cell_type": "code",
      "source": [
        "custom_dict = {'name':'Hydrogen','symbol':'H','number':1}\n",
        "print(custom_dict)\n",
        "\n",
        "# Method 1\n",
        "hydrogen = Element(*custom_dict.values())\n",
        "print('Using Method #1 ->',hydrogen.name,hydrogen.symbol,hydrogen.number, sep='\\t')\n",
        "\n",
        "# Method 2\n",
        "hydrogen = Element(**custom_dict)\n",
        "print('Using Method #2 ->',hydrogen.name,hydrogen.symbol,hydrogen.number, sep='\\t')"
      ],
      "metadata": {
        "colab": {
          "base_uri": "https://localhost:8080/"
        },
        "id": "rq2rvZ9-Vfqp",
        "outputId": "34033964-4f83-4d94-a0b1-af6cc6438228"
      },
      "execution_count": 10,
      "outputs": [
        {
          "output_type": "stream",
          "name": "stdout",
          "text": [
            "{'name': 'Hydrogen', 'symbol': 'H', 'number': 1}\n",
            "Using Method #1 ->\tHydrogen\tH\t1\n",
            "Using Method #2 ->\tHydrogen\tH\t1\n"
          ]
        }
      ]
    },
    {
      "cell_type": "code",
      "source": [
        "\"\"\"6. For the Element class, define a method called dump() that prints the values of the object’s attributes (name, symbol, and number). Create the hydrogen object from this new\n",
        "      definition and use dump() to print its attributes.\"\"\""
      ],
      "metadata": {
        "colab": {
          "base_uri": "https://localhost:8080/",
          "height": 53
        },
        "id": "6xRk7MraVh_i",
        "outputId": "d43b4087-8c58-492d-991c-01a772554f17"
      },
      "execution_count": 11,
      "outputs": [
        {
          "output_type": "execute_result",
          "data": {
            "text/plain": [
              "'6. For the Element class, define a method called dump() that prints the values of the object’s attributes (name, symbol, and number). Create the hydrogen object from this new\\n      definition and use dump() to print its attributes.'"
            ],
            "application/vnd.google.colaboratory.intrinsic+json": {
              "type": "string"
            }
          },
          "metadata": {},
          "execution_count": 11
        }
      ]
    },
    {
      "cell_type": "code",
      "source": [
        "class Element:\n",
        "    def __init__(self, name, symbol, number):\n",
        "        self.name = name\n",
        "        self.symbol = symbol\n",
        "        self.number = number      \n",
        "    def dump(self):\n",
        "        print(self.name, self.symbol, self.number)\n",
        "        \n",
        "hydrogen = Element('Hydrogen','H',1)\n",
        "hydrogen.dump()"
      ],
      "metadata": {
        "colab": {
          "base_uri": "https://localhost:8080/"
        },
        "id": "htQxJru4VjmS",
        "outputId": "50a371bd-9060-4d9f-9afa-4b1570919dac"
      },
      "execution_count": 12,
      "outputs": [
        {
          "output_type": "stream",
          "name": "stdout",
          "text": [
            "Hydrogen H 1\n"
          ]
        }
      ]
    },
    {
      "cell_type": "code",
      "source": [
        "#7. Call print(hydrogen). In the definition of Element, change the name of method dump to __str__, create a new hydrogen object, and call print(hydrogen) again."
      ],
      "metadata": {
        "id": "acwtGdDzVlni"
      },
      "execution_count": 13,
      "outputs": []
    },
    {
      "cell_type": "code",
      "source": [
        "print(hydrogen)\n",
        "\n",
        "class Element:\n",
        "    def __init__(self, name, symbol, number):\n",
        "        self.name = name\n",
        "        self.symbol = symbol\n",
        "        self.number = number      \n",
        "    def __str__(self):\n",
        "        return f'{self.name} {self.symbol} {self.number}'\n",
        "        \n",
        "Hydrogen = Element('Hydrogen','H',1)\n",
        "print(Hydrogen)"
      ],
      "metadata": {
        "colab": {
          "base_uri": "https://localhost:8080/"
        },
        "id": "Z9HHbGCfVnhq",
        "outputId": "e591027d-0845-4576-d7a9-8b322a76bf3c"
      },
      "execution_count": 14,
      "outputs": [
        {
          "output_type": "stream",
          "name": "stdout",
          "text": [
            "<__main__.Element object at 0x7f55a96cb610>\n",
            "Hydrogen H 1\n"
          ]
        }
      ]
    },
    {
      "cell_type": "code",
      "source": [
        "#8. Modify Element to make the attributes name, symbol, and number private. Define a getter property for each to return its value."
      ],
      "metadata": {
        "id": "gqXxRBMsVpqT"
      },
      "execution_count": 15,
      "outputs": []
    },
    {
      "cell_type": "code",
      "source": [
        "class Element:\n",
        "    def __init__(self,name,symbol,number):\n",
        "        self.__name = name\n",
        "        self.__symbol = symbol\n",
        "        self.__number = number\n",
        "    \n",
        "    @property\n",
        "    def get_name(self):\n",
        "        return self.__name\n",
        "    \n",
        "    @property\n",
        "    def get_symbol(self):\n",
        "        return self.__symbol\n",
        "    \n",
        "    @property\n",
        "    def get_number(self):\n",
        "        return self.__number\n",
        "    \n",
        "hydrogen = Element('Hydrogen','H',1)\n",
        "print(hydrogen.get_name)\n",
        "print(hydrogen.get_symbol)\n",
        "print(hydrogen.get_number)"
      ],
      "metadata": {
        "colab": {
          "base_uri": "https://localhost:8080/"
        },
        "id": "Q83eRTm_Vrta",
        "outputId": "7e1429af-ad0c-4903-aca1-db33b754330a"
      },
      "execution_count": 16,
      "outputs": [
        {
          "output_type": "stream",
          "name": "stdout",
          "text": [
            "Hydrogen\n",
            "H\n",
            "1\n"
          ]
        }
      ]
    },
    {
      "cell_type": "code",
      "source": [
        "\"\"\"9. Define three classes: Bear, Rabbit, and Octothorpe. For each, define only one method: eats(). This should return 'berries' (Bear), 'clover' (Rabbit), or 'campers' (Octothorpe). \n",
        "      Create one object from each and print what it eats.\"\"\""
      ],
      "metadata": {
        "colab": {
          "base_uri": "https://localhost:8080/",
          "height": 53
        },
        "id": "21_p521_VtiS",
        "outputId": "04afdeec-3280-4f50-f1c3-079a138b6ab2"
      },
      "execution_count": 17,
      "outputs": [
        {
          "output_type": "execute_result",
          "data": {
            "text/plain": [
              "\"9. Define three classes: Bear, Rabbit, and Octothorpe. For each, define only one method: eats(). This should return 'berries' (Bear), 'clover' (Rabbit), or 'campers' (Octothorpe). \\n      Create one object from each and print what it eats.\""
            ],
            "application/vnd.google.colaboratory.intrinsic+json": {
              "type": "string"
            }
          },
          "metadata": {},
          "execution_count": 17
        }
      ]
    },
    {
      "cell_type": "code",
      "source": [
        "class Bear:\n",
        "    def eats(self):\n",
        "        print('berries')\n",
        "class Rabbit:\n",
        "    def eats(self):\n",
        "        print('clover')\n",
        "class Octothorpe:\n",
        "    def eats(self):\n",
        "        print('campers')\n",
        "        \n",
        "bear = Bear()\n",
        "rabbit = Rabbit()\n",
        "octothrope = Octothorpe()\n",
        "\n",
        "bear.eats()\n",
        "rabbit.eats()\n",
        "octothrope.eats()"
      ],
      "metadata": {
        "colab": {
          "base_uri": "https://localhost:8080/"
        },
        "id": "aDxwrQ9iVvXh",
        "outputId": "dd0710cc-ed7c-4691-85a7-be11b709304a"
      },
      "execution_count": 18,
      "outputs": [
        {
          "output_type": "stream",
          "name": "stdout",
          "text": [
            "berries\n",
            "clover\n",
            "campers\n"
          ]
        }
      ]
    },
    {
      "cell_type": "code",
      "source": [
        "\"\"\"10. Define these classes: Laser, Claw, and SmartPhone. Each has only one method: does(). This returns 'disintegrate' (Laser), 'crush' (Claw), or 'ring' (SmartPhone). Then,  \n",
        "       define the class Robot that has one instance (object) of each of these. Define a does() method for the Robot that prints what its component objects do.\"\"\""
      ],
      "metadata": {
        "colab": {
          "base_uri": "https://localhost:8080/",
          "height": 53
        },
        "id": "Pn1a4jphVxeq",
        "outputId": "722fe314-26cd-45ed-8a64-90cd82478ffd"
      },
      "execution_count": 19,
      "outputs": [
        {
          "output_type": "execute_result",
          "data": {
            "text/plain": [
              "\"10. Define these classes: Laser, Claw, and SmartPhone. Each has only one method: does(). This returns 'disintegrate' (Laser), 'crush' (Claw), or 'ring' (SmartPhone). Then,  \\n       define the class Robot that has one instance (object) of each of these. Define a does() method for the Robot that prints what its component objects do.\""
            ],
            "application/vnd.google.colaboratory.intrinsic+json": {
              "type": "string"
            }
          },
          "metadata": {},
          "execution_count": 19
        }
      ]
    },
    {
      "cell_type": "code",
      "source": [
        "class Laser:\n",
        "    def does(self):\n",
        "        return 'disintegrate'\n",
        "class Claw:\n",
        "    def does(self):\n",
        "        return 'crush'\n",
        "class Smartphone:\n",
        "    def does(self):\n",
        "        return 'ring'\n",
        "class Robot:\n",
        "    def __init__(self):\n",
        "        self.laser = Laser()\n",
        "        self.claw = Claw()\n",
        "        self.smartphone = Smartphone()\n",
        "    def does(self):\n",
        "        print(self.laser.does(),self.claw.does(),self.smartphone.does())\n",
        "        \n",
        "r2d2 = Robot()\n",
        "r2d2.does()"
      ],
      "metadata": {
        "colab": {
          "base_uri": "https://localhost:8080/"
        },
        "id": "8E-K7xr-V0TC",
        "outputId": "3ce4672e-5294-489a-9847-c0bafd01fbe3"
      },
      "execution_count": 20,
      "outputs": [
        {
          "output_type": "stream",
          "name": "stdout",
          "text": [
            "disintegrate crush ring\n"
          ]
        }
      ]
    },
    {
      "cell_type": "code",
      "source": [],
      "metadata": {
        "id": "1bcZd_dOWMl9"
      },
      "execution_count": null,
      "outputs": []
    }
  ]
}