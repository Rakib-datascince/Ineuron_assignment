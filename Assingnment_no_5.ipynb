{
  "nbformat": 4,
  "nbformat_minor": 0,
  "metadata": {
    "colab": {
      "provenance": [],
      "authorship_tag": "ABX9TyOn0qXZ3/AWYZWg40qvPLD3",
      "include_colab_link": true
    },
    "kernelspec": {
      "name": "python3",
      "display_name": "Python 3"
    },
    "language_info": {
      "name": "python"
    }
  },
  "cells": [
    {
      "cell_type": "markdown",
      "metadata": {
        "id": "view-in-github",
        "colab_type": "text"
      },
      "source": [
        "<a href=\"https://colab.research.google.com/github/Rakib-datascince/Ineuron_assignment/blob/main/Assingnment_no_5.ipynb\" target=\"_parent\"><img src=\"https://colab.research.google.com/assets/colab-badge.svg\" alt=\"Open In Colab\"/></a>"
      ]
    },
    {
      "cell_type": "code",
      "execution_count": null,
      "metadata": {
        "colab": {
          "base_uri": "https://localhost:8080/",
          "height": 122
        },
        "id": "7Yrh6Rs-Nlzt",
        "outputId": "c661e30a-c725-452f-af3a-7c800f38ca64"
      },
      "outputs": [
        {
          "output_type": "execute_result",
          "data": {
            "text/plain": [
              "\"\\nQues no. 1 What does an empty dictionary's code look like ?\\nAns:- An empty dictionary is often represented by two empty curly brackets \\n      d = {} or d = dict()\\n\\nQues no. 2 What is the value of dictionary value with key 'foo' and the value 42?\\nAns:- {'foo':42}\\n\\nQues no.3 What is the most significant distinction between a dictionary and a list?\\nAns:- Dictionary are represeted by {} where as lists are represented by [] . The items stored in dictionary \\n      are Unordered , while the items in a list are odered .\\n\\nQues no.4 What happens if you try to access spam ['foo'] if spam is {'bar':100} ?\\nAns:- We will get a key\\n\\n\""
            ],
            "application/vnd.google.colaboratory.intrinsic+json": {
              "type": "string"
            }
          },
          "metadata": {},
          "execution_count": 2
        }
      ],
      "source": [
        "\"\"\"\n",
        "Ques no. 1 What does an empty dictionary's code look like ?\n",
        "Ans:- An empty dictionary is often represented by two empty curly brackets \n",
        "      d = {} or d = dict()\n",
        "\n",
        "Ques no. 2 What is the value of dictionary value with key 'foo' and the value 42?\n",
        "Ans:- {'foo':42}\n",
        "\n",
        "Ques no.3 What is the most significant distinction between a dictionary and a list?\n",
        "Ans:- Dictionary are represeted by {} where as lists are represented by [] . The items stored in dictionary \n",
        "      are Unordered , while the items in a list are odered .\n",
        "\n",
        "Ques no.4 What happens if you try to access spam ['foo'] if spam is {'bar':100} ?\n",
        "Ans:- We will get a keyError:'foo'\n",
        "\n",
        "Ques no.5 if a dictionary is stored in spam , what is the difference between the expression 'cat' in spam and \n",
        "         'cat' in spam.keys() ?\n",
        "Ans:- There is no difference . The operator checks whether a value exits as a key in the dictionary or not\n",
        "\n",
        "Ques no.6 if a dictionary is stored in spam , what is the difference between the expression 'cat' in spam and \n",
        "         'cat' in spam.values() ?\n",
        "Ans:- 'cat' in spam checks whether where there is 'cat' key in the dictionary , while  'cat' spam.values() chcecks\n",
        "       whether value 'cat' for one of the keys in spam. \n",
        "\n",
        "\n",
        "Ques no. 7 What is a shorcut for the following code?\n",
        "         if 'color' not in 'spam':\n",
        "           spam['color'] = 'black'\n",
        "Ans:- spam.setdefault('color','black')\n",
        "\n",
        "Ques no.8 How do you 'pretty print' dictionary values using which modules and function ?\n",
        "Ans:- we can pretty print a dictionary using three functions :\n",
        "      1. By using ppritn() function of pprint module\n",
        "         Note: ppritn() does not prettify nested dictionaries\n",
        "      2. By using dumps() method of json module\n",
        "      3. By using dumps method if yaml module \n",
        "\"\"\""
      ]
    },
    {
      "cell_type": "code",
      "source": [
        "from IPython.core.display import JSON\n",
        "dic = [\n",
        "       {'Name':'John', 'age':'33', 'Residense':{'country':'USA', 'city':'New york'}},\n",
        "       {'Name':'Roy', 'age':'44', 'Residense':{'country':'India', 'city':'New Delhi'}} ,\n",
        "       {'Name':'Cena', 'age':'55', 'Residense':{'country':'Japan', 'city':'Tokyo'}} ,\n",
        "       {'Name':'Ryan', 'age':'66', 'Residense':{'country':'England', 'city':'London'}} ]\n",
        "       \n",
        "       \n",
        "        \n",
        "print('Printing using print() function\\n,dic')\n",
        "print('-'*50)\n",
        "import pprint\n",
        "pprint.pprint(dic)\n",
        "print('-'*50)\n",
        "import json\n",
        "dump = json.dumps(dic, indent = 4 )\n",
        "print('Printing using dumps() method\\n', dump)\n",
        "print('-'*50)\n",
        "import yaml\n",
        "dump = yaml.dump(dic)\n",
        "print('Printing using dump () method\\n',dump)\n"
      ],
      "metadata": {
        "colab": {
          "base_uri": "https://localhost:8080/"
        },
        "id": "vWobdrYLOexh",
        "outputId": "0f0889a2-b865-438f-cb82-72ab7b8240c9"
      },
      "execution_count": null,
      "outputs": [
        {
          "output_type": "stream",
          "name": "stdout",
          "text": [
            "Printing using print() function\n",
            ",dic\n",
            "--------------------------------------------------\n",
            "[{'Name': 'John',\n",
            "  'Residense': {'city': 'New york', 'country': 'USA'},\n",
            "  'age': '33'},\n",
            " {'Name': 'Roy',\n",
            "  'Residense': {'city': 'New Delhi', 'country': 'India'},\n",
            "  'age': '44'},\n",
            " {'Name': 'Cena',\n",
            "  'Residense': {'city': 'Tokyo', 'country': 'Japan'},\n",
            "  'age': '55'},\n",
            " {'Name': 'Ryan',\n",
            "  'Residense': {'city': 'London', 'country': 'England'},\n",
            "  'age': '66'}]\n",
            "--------------------------------------------------\n",
            "Printing using dumps() method\n",
            " [\n",
            "    {\n",
            "        \"Name\": \"John\",\n",
            "        \"age\": \"33\",\n",
            "        \"Residense\": {\n",
            "            \"country\": \"USA\",\n",
            "            \"city\": \"New york\"\n",
            "        }\n",
            "    },\n",
            "    {\n",
            "        \"Name\": \"Roy\",\n",
            "        \"age\": \"44\",\n",
            "        \"Residense\": {\n",
            "            \"country\": \"India\",\n",
            "            \"city\": \"New Delhi\"\n",
            "        }\n",
            "    },\n",
            "    {\n",
            "        \"Name\": \"Cena\",\n",
            "        \"age\": \"55\",\n",
            "        \"Residense\": {\n",
            "            \"country\": \"Japan\",\n",
            "            \"city\": \"Tokyo\"\n",
            "        }\n",
            "    },\n",
            "    {\n",
            "        \"Name\": \"Ryan\",\n",
            "        \"age\": \"66\",\n",
            "        \"Residense\": {\n",
            "            \"country\": \"England\",\n",
            "            \"city\": \"London\"\n",
            "        }\n",
            "    }\n",
            "]\n",
            "--------------------------------------------------\n",
            "Printing using dump () method\n",
            " - Name: John\n",
            "  Residense: {city: New york, country: USA}\n",
            "  age: '33'\n",
            "- Name: Roy\n",
            "  Residense: {city: New Delhi, country: India}\n",
            "  age: '44'\n",
            "- Name: Cena\n",
            "  Residense: {city: Tokyo, country: Japan}\n",
            "  age: '55'\n",
            "- Name: Ryan\n",
            "  Residense: {city: London, country: England}\n",
            "  age: '66'\n",
            "\n"
          ]
        }
      ]
    },
    {
      "cell_type": "code",
      "source": [],
      "metadata": {
        "id": "S4GlAzfoafrk"
      },
      "execution_count": null,
      "outputs": []
    }
  ]
}