{
  "nbformat": 4,
  "nbformat_minor": 0,
  "metadata": {
    "colab": {
      "provenance": [],
      "authorship_tag": "ABX9TyMbs/BLzrlEa/ASgWVddBGK",
      "include_colab_link": true
    },
    "kernelspec": {
      "name": "python3",
      "display_name": "Python 3"
    },
    "language_info": {
      "name": "python"
    }
  },
  "cells": [
    {
      "cell_type": "markdown",
      "metadata": {
        "id": "view-in-github",
        "colab_type": "text"
      },
      "source": [
        "<a href=\"https://colab.research.google.com/github/Rakib-datascince/Ineuron_assignment/blob/Python-Assignment/Assignment_no_7pendindg.ipynb\" target=\"_parent\"><img src=\"https://colab.research.google.com/assets/colab-badge.svg\" alt=\"Open In Colab\"/></a>"
      ]
    },
    {
      "cell_type": "code",
      "execution_count": null,
      "metadata": {
        "id": "IWgbBgU6XDdG"
      },
      "outputs": [],
      "source": [
        "\"\"\"\n",
        "Ques no.1 What is the feature responsible for the generating Regex objects ?\n",
        "Ans:- re.compile() is the feature responsible for generation of Regex objects.\n",
        "\"\"\""
      ]
    },
    {
      "cell_type": "code",
      "source": [
        "import re \n",
        "a = re.compile(\"some random pattern\")\n",
        "type(a)\n",
        "print(a)"
      ],
      "metadata": {
        "colab": {
          "base_uri": "https://localhost:8080/"
        },
        "id": "MX871E42XotO",
        "outputId": "f4950227-bc38-40bc-d208-45fe9c95c2b6"
      },
      "execution_count": null,
      "outputs": [
        {
          "output_type": "stream",
          "name": "stdout",
          "text": [
            "re.compile('some random pattern')\n"
          ]
        }
      ]
    },
    {
      "cell_type": "code",
      "source": [
        "\"\"\"\n",
        "Ques no. 2 Why do raw string often appear in Regex objects?\n",
        "Ans:- Regular expression use the backslash character ('\\') to indicate  special forms (Metacharacters ) or to allow special characters (special sequences) to be used \n",
        "      without involving their special meaning. This collides with Python's usages of the same character for the same purpose in string literals. Hence, Raw strings are \n",
        "      used (e.g.r\"\\n\") so that backslashes do not have to be escaped.\n",
        "\n",
        "Ques no. 3 What is the return value of the search()method ?\n",
        "Ans:- The value of re.search(pattern,string) method is a match is a match object if the pattern is observed in the string else it returns a None.\n",
        "\n",
        "\"\"\""
      ],
      "metadata": {
        "id": "6ZzYPu84X57Q"
      },
      "execution_count": null,
      "outputs": []
    },
    {
      "cell_type": "code",
      "source": [
        "import re \n",
        "match = re.search ( 'i', 'ineron Full stack Data science program')\n",
        "print('Outpur :', match)\n",
        "match = re.search('X', 'Ineuron Full stack Data science program')\n",
        "print('Output :',match)"
      ],
      "metadata": {
        "colab": {
          "base_uri": "https://localhost:8080/"
        },
        "id": "J2zOhuwXp-o6",
        "outputId": "d1fba9d2-9eca-4803-978f-93fba9baa15e"
      },
      "execution_count": null,
      "outputs": [
        {
          "output_type": "stream",
          "name": "stdout",
          "text": [
            "Outpur : <re.Match object; span=(0, 1), match='i'>\n",
            "Output : None\n"
          ]
        }
      ]
    },
    {
      "cell_type": "code",
      "source": [
        "\"\"\"\n",
        "\n",
        "Ques no. 4 From a Match item, How do you get the actual string that match the pattern ?\n",
        "Ans:- For Matched items group () methods returns actual strings that match the pattern .\n",
        "\n",
        "\"\"\""
      ],
      "metadata": {
        "colab": {
          "base_uri": "https://localhost:8080/",
          "height": 134
        },
        "id": "T5BpLQpyq0Wh",
        "outputId": "49118a71-651d-488f-f409-173a93bb1a78"
      },
      "execution_count": null,
      "outputs": [
        {
          "output_type": "error",
          "ename": "SyntaxError",
          "evalue": "ignored",
          "traceback": [
            "\u001b[0;36m  File \u001b[0;32m\"<ipython-input-2-2040cf9a2005>\"\u001b[0;36m, line \u001b[0;32m1\u001b[0m\n\u001b[0;31m    Ques no. 4 From a Match item, How do you get the actual string that match the pattern ?\u001b[0m\n\u001b[0m          ^\u001b[0m\n\u001b[0;31mSyntaxError\u001b[0m\u001b[0;31m:\u001b[0m invalid syntax\n"
          ]
        }
      ]
    },
    {
      "cell_type": "code",
      "source": [
        "import re \n",
        "match = re.search ('Ineuron','Ineuron Full stack Data science program')\n",
        "print('Output :', match.group())"
      ],
      "metadata": {
        "colab": {
          "base_uri": "https://localhost:8080/"
        },
        "id": "pdkkQ5WVrlCh",
        "outputId": "7a5cf25b-bb4e-4cf3-b3d9-6f82861fe4c8"
      },
      "execution_count": null,
      "outputs": [
        {
          "output_type": "stream",
          "name": "stdout",
          "text": [
            "Output : Ineuron\n"
          ]
        }
      ]
    },
    {
      "cell_type": "code",
      "source": [
        "\"\"\"\n",
        "\n",
        "Ques no. 5 In the Regex which created from the r'(\\d\\d\\d)-(\\d\\d\\d-\\d\\d\\d\\d)', what does group zero cover ? Group 2 ? Group 1 ?\n",
        "Ans:-In the Regex r'(\\d\\d\\d)-(\\d\\d\\d-\\d\\d\\d\\d)' the zero group covers the entire pattern match where as the first group cover(\\d\\d\\d) and the group cover (\\d\\d\\d) and \n",
        "     the second group cover (\\d\\d\\d-\\d\\d\\d\\d).\n",
        "     \n",
        "     \"\"\"\n"
      ],
      "metadata": {
        "id": "oq2ziB35rPV9"
      },
      "execution_count": null,
      "outputs": []
    },
    {
      "cell_type": "code",
      "source": [
        "#Example Program\n",
        "import re \n",
        "phoneNumRegex = re.compile(r'(\\d\\d\\d)-(\\d\\d\\d-\\d\\d\\d\\d)')\n",
        "mo = phoneNumRegex.search('My number is 415-555-4242.')\n",
        "print(mo.groups())\n",
        "print(mo.groups(0))\n",
        "print(mo.groups(1))\n",
        "print(mo.groups(2))"
      ],
      "metadata": {
        "colab": {
          "base_uri": "https://localhost:8080/"
        },
        "id": "Lq4zWThsuNrY",
        "outputId": "d1ff21ab-c47c-429e-90e5-491c1d87b30d"
      },
      "execution_count": null,
      "outputs": [
        {
          "output_type": "stream",
          "name": "stdout",
          "text": [
            "('415', '555-4242')\n",
            "('415', '555-4242')\n",
            "('415', '555-4242')\n",
            "('415', '555-4242')\n"
          ]
        }
      ]
    },
    {
      "cell_type": "code",
      "source": [
        "#Ques no.6 In Standard expression syntax,parentheses and intervals have distinct meanings. How can you tell a regex that you want it to fit real parentheses and periods ?\n",
        "#Ans:- The \\. \\( and ) escape characters in the raw string passed to re.compite( ) will match actual parentheses characters.\n",
        "phoneNumRegex = re.compile(r'(\\d\\d\\d)-(\\d\\d\\d-\\d\\d\\d\\d)')\n",
        "mo = phoneNumRegex.search('My number is 415-555-4242')\n",
        "print(mo.groups())"
      ],
      "metadata": {
        "colab": {
          "base_uri": "https://localhost:8080/"
        },
        "id": "j5dVVXwQvIIX",
        "outputId": "93c76ffe-e9ff-42d8-fc3b-04b7b4e53e2b"
      },
      "execution_count": null,
      "outputs": [
        {
          "output_type": "stream",
          "name": "stdout",
          "text": [
            "('415', '555-4242')\n"
          ]
        }
      ]
    },
    {
      "cell_type": "code",
      "source": [
        "\"\"\"\n",
        "Ques no. 7 The findall() methods returns a string list or a list of string tuples. What causes it to return one of \n",
        "         the two options ?\n",
        "Ans:- If the regex pattern has no groups, a list of strings matched is returned . if the regex patternd has groups,\n",
        "      list of tuple of strings is returned.\n",
        "      \n",
        "      \"\"\""
      ],
      "metadata": {
        "id": "xsyflpGMxYvv"
      },
      "execution_count": null,
      "outputs": []
    },
    {
      "cell_type": "code",
      "source": [
        "#pending"
      ],
      "metadata": {
        "id": "odFQYsxXz109"
      },
      "execution_count": null,
      "outputs": []
    },
    {
      "cell_type": "code",
      "source": [
        "\"\"\"\n",
        "Ques no. 8 In standard expression, what does the l means ?\n",
        "Ans:- In standard Expression l means or operator.\n",
        "\n",
        "\n",
        "\"\"\""
      ],
      "metadata": {
        "id": "mvcA4jV50KU_"
      },
      "execution_count": null,
      "outputs": []
    },
    {
      "cell_type": "code",
      "source": [
        "\"\"\"\n",
        "\n",
        "Ques no.9 In regular expression, What does ? character stand for ?\n",
        "Ans:- In regular expression, ? match zero or one match of the preceeding group.\n",
        "\n",
        "Ques no. 10 In regular expressions, what is the difference between + and * characters ?\n",
        "Ans:- In regular Expression, * Represent Zero or more occurances of the preceeding groups, whereas + represents one\n",
        "      or more occurances of the preceeding groups.\n",
        "\n",
        "Ques no.11 What is the difference between {4} and {4,5} in  regular expression ?\n",
        "Ans:- {4} means that its preceeding groups should repeat 4 times  where as {4,5} means that its preceeding group\n",
        "      should repeat minimum 4 times and maximum 5 times inclusively .\n",
        "\n",
        "Ques no.12 What do you mean by the \\d,\\w and\\s shorthand character classes signif in regular expressions ?\n",
        "Ans:-\\d,\\w and \\s are special sequences in regular expressions in python:\n",
        "\n",
        "     1) \\w - Matches a word characters equivalent to [a-z,A-Z,0-9 ]\n",
        "     2) \\d - Matches digit character equivalent to [0-9]\n",
        "     3) \\s - Matches whitespace character (space, tab, newline,etc)\n",
        "\n",
        "\n",
        "Ques no.13 What do you mean by the \\d,\\w and\\s shorthand character classes signif in regular expressions ?\n",
        "Ans:-\\D,\\W and \\S are special sequences in regular expressions in python:\n",
        "Ans:-\\D,\\W and \\S are special sequences in regular expressions in python:\n",
        "\n",
        "     1) \\W - Matches non-alpha numeric equivalent to [a-z,A-Z,0-9 ]\n",
        "     2) \\D - Matches non-alpha numeric character equivalent to [0-9]\n",
        "     3) \\S - Matches non-whitespace character (space, tab, newline,etc)\n",
        "\n",
        "\n",
        "Ques no.14 What is the difference between .* and .*?   ?\n",
        "Ans:- .* is a greedy mode, which returns the longest string that meets the condition. Whereas .*? is a non greedy \n",
        "       mode which returns the shortest string that meets the condition.\n",
        "\n",
        "Ques no.15 What is the syntax for matching both numbers and lowecase letters with a character class ?\n",
        "Ans:- The syntax is either [a-z,0-9] or [0-9,a-z]\n",
        "\n",
        "Ques no.16 What is the procedure for making a normal expression in regex case insentive ? \n",
        "Ans:- We can pass re.IGNORECASE   as a flag to make a normal expression case insentive.\n",
        "\n",
        "Ques no.17 What does the .character normally match? What does it match if re.DOTALL is passed as 2nd argument in \n",
        "        re.compile()  ?\n",
        "Ans:- Dot character matches everything in input except newline character . By passing re.DOTALL as a flag to \n",
        "      re.compile(), you can make the dot character match all charcter, including newline character.\n",
        "\n",
        "Ques no.18 If numReg = re.compile(r'\\d+') , what will numRegex.sub('X','11 drummers, 10 pipers, five rings, 4 hen')\n",
        "          return?\n",
        "Ans:- The output will be \n",
        "\n",
        "     \n",
        "     \"\"\""
      ],
      "metadata": {
        "colab": {
          "base_uri": "https://localhost:8080/",
          "height": 130
        },
        "id": "lPM5Rqmr0oho",
        "outputId": "d77e53a5-0ef4-4d6a-c118-01845d7151f1"
      },
      "execution_count": null,
      "outputs": [
        {
          "output_type": "error",
          "ename": "SyntaxError",
          "evalue": "ignored",
          "traceback": [
            "\u001b[0;36m  File \u001b[0;32m\"<ipython-input-11-a792c882c816>\"\u001b[0;36m, line \u001b[0;32m1\u001b[0m\n\u001b[0;31m    Ques no.9 In regular expression, What does ? character stand for ?\u001b[0m\n\u001b[0m          ^\u001b[0m\n\u001b[0;31mSyntaxError\u001b[0m\u001b[0;31m:\u001b[0m invalid syntax\n"
          ]
        }
      ]
    },
    {
      "cell_type": "code",
      "source": [],
      "metadata": {
        "id": "UMnvhUJgBVRW"
      },
      "execution_count": null,
      "outputs": []
    },
    {
      "cell_type": "code",
      "source": [
        "import re \n",
        "numReg = re.compile(r'\\d+')\n",
        "numReg.sub('X','11 drummers, 10 pipers, five rings ,4 hen')\n"
      ],
      "metadata": {
        "colab": {
          "base_uri": "https://localhost:8080/",
          "height": 35
        },
        "id": "51iOey8p9skh",
        "outputId": "002b2da7-3b13-46b8-9f6b-9d53ea94909f"
      },
      "execution_count": null,
      "outputs": [
        {
          "output_type": "execute_result",
          "data": {
            "text/plain": [
              "'X drummers, X pipers, five rings ,X hen'"
            ],
            "application/vnd.google.colaboratory.intrinsic+json": {
              "type": "string"
            }
          },
          "metadata": {},
          "execution_count": 15
        }
      ]
    },
    {
      "cell_type": "code",
      "source": [
        "Ques no.19 What does passing re.VERBOSE as the 2nd argument to re.compile () allow to do ?\n",
        "Ans:- re.VERBOSE will allow to add whitespace and comments to string passed to re.compile().\n",
        "\n",
        "Ques no.20 How would you write a regex that match a number with comma for every three digits ? It must match the        \n",
        "           given  following : '42' , '1,234' , '6,368,745',   but not the following  '12,34,567' (which has only\n",
        "            two digits between the commas) '1234' (which lacks commas)"
      ],
      "metadata": {
        "id": "DE7P7NOu4K2O"
      },
      "execution_count": null,
      "outputs": []
    },
    {
      "cell_type": "code",
      "source": [
        "import re\n",
        "pattern = r'^\\d{1,3}(,\\d{3})*$'\n",
        "pagex = re.compile(pattern)\n",
        "for i in ['42' , '1,234' , '6,368,745','12,34,567']:\n",
        "  print('Output:', i, '->',pagex.search(i))"
      ],
      "metadata": {
        "colab": {
          "base_uri": "https://localhost:8080/"
        },
        "id": "5Fg05A3jA3Gx",
        "outputId": "7a59953c-9382-4c1b-cc75-1ad601159d66"
      },
      "execution_count": null,
      "outputs": [
        {
          "output_type": "stream",
          "name": "stdout",
          "text": [
            "Output: 42 -> <re.Match object; span=(0, 2), match='42'>\n",
            "Output: 1,234 -> <re.Match object; span=(0, 5), match='1,234'>\n",
            "Output: 6,368,745 -> <re.Match object; span=(0, 9), match='6,368,745'>\n",
            "Output: 12,34,567 -> None\n"
          ]
        }
      ]
    },
    {
      "cell_type": "code",
      "source": [
        "Ques no 21 How would you write a regex that matches the full name of someone whose last name is Watanabe ? You can\n",
        "           assume that the first name that comes before it will always be one word that begins with a capital. \n",
        "           The regex must match the following:\n",
        "\n",
        "           'Haruto  Watanabe'\n",
        "           'Alice Watanbe'\n",
        "           'RoboCop Watanabe'\n",
        "\n",
        "           but not the following \n",
        "\n",
        "           'haruto Watanabe ' ( where the first name is not capitalized)\n",
        "           'Mr. Watanabe'  ( where the preceding word has a nonletter character)\n",
        "           'Watanabe'  (which has no first name)\n",
        "           'Haruto  Watanabe' (where  Watanabe is not capitalized)\n",
        "Ans:-"
      ],
      "metadata": {
        "id": "OQ7sQ7mIB5xa"
      },
      "execution_count": null,
      "outputs": []
    },
    {
      "cell_type": "code",
      "source": [
        "import re \n",
        "pattern = r'[A-Z]{1}[a-z]*\\sWatanabe'\n",
        "namex = re.compile(pattern)\n",
        "for i in ['Haruto  Watanabe',\n",
        "           'Alice Watanbe',\n",
        "           'RoboCop Watanabe','haruto Watanabe ','Mr. Watanabe','Watanabe','Haruto  Watanabe']:\n",
        "           print('Output:',name,  '->', namex.search(name))\n"
      ],
      "metadata": {
        "colab": {
          "base_uri": "https://localhost:8080/",
          "height": 200
        },
        "id": "zzEmnr-RDqyn",
        "outputId": "19c52238-4eb5-4013-fa4f-8eed61f6fc94"
      },
      "execution_count": null,
      "outputs": [
        {
          "output_type": "error",
          "ename": "NameError",
          "evalue": "ignored",
          "traceback": [
            "\u001b[0;31m---------------------------------------------------------------------------\u001b[0m",
            "\u001b[0;31mNameError\u001b[0m                                 Traceback (most recent call last)",
            "\u001b[0;32m<ipython-input-20-0884c4439d63>\u001b[0m in \u001b[0;36m<module>\u001b[0;34m()\u001b[0m\n\u001b[1;32m      5\u001b[0m            \u001b[0;34m'Alice Watanbe'\u001b[0m\u001b[0;34m,\u001b[0m\u001b[0;34m\u001b[0m\u001b[0;34m\u001b[0m\u001b[0m\n\u001b[1;32m      6\u001b[0m            'RoboCop Watanabe','haruto Watanabe ','Mr. Watanabe','Watanabe','Haruto  Watanabe']:\n\u001b[0;32m----> 7\u001b[0;31m            \u001b[0mprint\u001b[0m\u001b[0;34m(\u001b[0m\u001b[0;34m'Output:'\u001b[0m\u001b[0;34m,\u001b[0m\u001b[0mname\u001b[0m\u001b[0;34m,\u001b[0m  \u001b[0;34m'->'\u001b[0m\u001b[0;34m,\u001b[0m \u001b[0mnamex\u001b[0m\u001b[0;34m.\u001b[0m\u001b[0msearch\u001b[0m\u001b[0;34m(\u001b[0m\u001b[0mname\u001b[0m\u001b[0;34m)\u001b[0m\u001b[0;34m)\u001b[0m\u001b[0;34m\u001b[0m\u001b[0;34m\u001b[0m\u001b[0m\n\u001b[0m",
            "\u001b[0;31mNameError\u001b[0m: name 'name' is not defined"
          ]
        }
      ]
    },
    {
      "cell_type": "code",
      "source": [
        "#Ques no.1 How would you write a regex that matches a sentence where the first word is either Alice , Bob , or Carol; the second  word is either eats , pets or throws \n",
        "           third word is apples , cats or baseballs; and the sentences ends with a periods ? This regex should be case-insensitive. It must match the following:\n",
        "           'Alice eats apples.'\n",
        "           'Bob pets cats.'\n",
        "           'Carol throws baseballs.'\n",
        "           'Alice throws Apples.'\n",
        "           'BOB EATS CATS.'\n",
        "\n",
        "            but not the following:\n",
        "\n",
        "            'RoboCop eats apples.'\n",
        "            'ALICE THROWS FOOTBALLS'\n",
        "            'Carol eats 7 cats.' "
      ],
      "metadata": {
        "id": "QlE7Ai4TE4VS"
      },
      "execution_count": null,
      "outputs": []
    },
    {
      "cell_type": "code",
      "source": [],
      "metadata": {
        "id": "v5AD7MBg16wD"
      },
      "execution_count": null,
      "outputs": []
    }
  ]
}