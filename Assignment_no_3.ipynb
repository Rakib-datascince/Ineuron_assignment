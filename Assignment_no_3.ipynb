{
  "nbformat": 4,
  "nbformat_minor": 0,
  "metadata": {
    "colab": {
      "provenance": [],
      "authorship_tag": "ABX9TyPJEFqqHx5r/KfaRPuRDhdR",
      "include_colab_link": true
    },
    "kernelspec": {
      "name": "python3",
      "display_name": "Python 3"
    },
    "language_info": {
      "name": "python"
    }
  },
  "cells": [
    {
      "cell_type": "markdown",
      "metadata": {
        "id": "view-in-github",
        "colab_type": "text"
      },
      "source": [
        "<a href=\"https://colab.research.google.com/github/Rakib-datascince/Ineuron_assignment/blob/main/Assignment_no_3.ipynb\" target=\"_parent\"><img src=\"https://colab.research.google.com/assets/colab-badge.svg\" alt=\"Open In Colab\"/></a>"
      ]
    },
    {
      "cell_type": "code",
      "execution_count": null,
      "metadata": {
        "id": "M7LuQ0eWZ2Qm"
      },
      "outputs": [],
      "source": [
        "\"\"\"\n",
        "Ques no.1 Why are fucntions advantageous to have in your programs?\n",
        "Ans:- Function reduce the need for duplicate code. This makes program shorter ,easier to read,and easier to update . The main advantage of function is code reusability.\n",
        "\n",
        "Ques no. 2 When does the code in a function run: when it's specified or when it's is called ?\n",
        "Ans:- The code in a function exicutes when the function is called , not when the function is specified \n",
        "\n",
        "Ques no. 3 What statement creates a function ?\n",
        "Ans:- The def statement defines a function \n",
        "   Syntax of function:\n",
        "     \"\"\"doc string\"\"\"\n",
        "     ---function body----\n",
        "     ---function body----\n",
        "     return body\n",
        "\n",
        "\n",
        "Ques no. 4 What is the difference between  a function and a function call?\n",
        "Ans:-  A function is procedure to achieve a particular result. While function call is using this function to achieve that task . Using a function to do a particular task any \n",
        "      point in program is called as function call.\n",
        "\n",
        "Ques no. 5 How many global scopes are there in python program? How many local scopes?\n",
        "Ans:- There is one global scope and a local scope is created whenever a fucntion is called.\n",
        "\n",
        "Ques no. 6 What  happens  to varaible in a local scope when the function call returns?\n",
        "Ans:- When a function returns , the local scope is destroyed , and all the variables in it are forgotten . \n",
        "\n",
        "Ques no. 7 What is the concept of return value ? Is it possible to have a return value in an expression?\n",
        "Ans:- A return value is the value that a function call evaluates to. Like any value, a return value cn be used as\n",
        "      part of an expression .\n",
        "\n",
        "Ques no. 8 If a function does not have a return statement , what is the return value of a call to that function?\n",
        "Ans:- If there is a no return value statement for a function , its return value is None.\n",
        "\n",
        "Ques no. 9 How do you make a function variable refer to the golbal variable?\n",
        "Ans:- A global statement will force a variale in a function to refer to the global varible. If you want to refer\n",
        "      to a global variable in a function, you can use a globale keyword to declare which varibles are global.\n",
        "\n",
        "Ques no. 10 What is the datatype of None ?\n",
        "Ans:- The data type of None is NoneType.\n",
        "\n",
        "Ques no. 11 What does the sentence import areallyourpetsnamederic do?\n",
        "Ans:- That import statement imports a module named areallyourpetsnamederic.\n",
        "\n",
        "Ques no. 12 If you had a bacon() feature in a spam module , what would you call it after importing spam?\n",
        "Ans:- This function call be called spam.bacon().\n",
        "\n",
        "Ques no. 13 What can you do to save a programme from crashing if it encounters an error?\n",
        "Ans:- Place the line of code might cause an error in a try caluse and use except block to handle the error.\n",
        "\n",
        "Ques no. 14 What is the purpose of the try clause ? What is the purpose of th except clause? \n",
        "Ans:- The code that could potentially cause an  error goes in the try clause . The code that executes if an error \n",
        "      happens goes in the except clause.\n",
        "\n",
        "\n",
        "\"\"\""
      ]
    }
  ]
}