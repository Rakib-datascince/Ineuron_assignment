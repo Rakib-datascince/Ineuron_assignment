{
  "nbformat": 4,
  "nbformat_minor": 0,
  "metadata": {
    "colab": {
      "provenance": [],
      "authorship_tag": "ABX9TyM+r11GThCELyFv7gpG2bh4",
      "include_colab_link": true
    },
    "kernelspec": {
      "name": "python3",
      "display_name": "Python 3"
    },
    "language_info": {
      "name": "python"
    }
  },
  "cells": [
    {
      "cell_type": "markdown",
      "metadata": {
        "id": "view-in-github",
        "colab_type": "text"
      },
      "source": [
        "<a href=\"https://colab.research.google.com/github/Rakib-datascince/Ineuron_assignment/blob/main/Assignment_no_6.ipynb\" target=\"_parent\"><img src=\"https://colab.research.google.com/assets/colab-badge.svg\" alt=\"Open In Colab\"/></a>"
      ]
    },
    {
      "cell_type": "code",
      "execution_count": null,
      "metadata": {
        "colab": {
          "base_uri": "https://localhost:8080/",
          "height": 130
        },
        "id": "71gwfdYtc4qI",
        "outputId": "72020552-749e-4dce-8423-119db70af3ad"
      },
      "outputs": [
        {
          "output_type": "error",
          "ename": "SyntaxError",
          "evalue": "ignored",
          "traceback": [
            "\u001b[0;36m  File \u001b[0;32m\"<ipython-input-1-3110fd9b5993>\"\u001b[0;36m, line \u001b[0;32m2\u001b[0m\n\u001b[0;31m    Ans:- Escape characters represent characters in string values that would otherwise be difficult or impossible to\u001b[0m\n\u001b[0m                          ^\u001b[0m\n\u001b[0;31mSyntaxError\u001b[0m\u001b[0;31m:\u001b[0m invalid syntax\n"
          ]
        }
      ],
      "source": [
        "\"\"\"Ques no 1 What are escape characters ? and how do you use them?\n",
        "Ans:- Escape characters represent characters in string values that would otherwise be difficult or impossible to \n",
        "      type into code . We can use the backslash character to escape a single character or symbol\n",
        "      Example:- \\t,\\n\n",
        "\n",
        "Ques no. 2 What do the escape characters n and t stand for ?\n",
        "Ans:- \\n is a new line , \\t is tab\n",
        "\n",
        "Ques no. 3 What is the way to include backslash character in a string ?\n",
        "Ans:- The \\\\ escape character will represent the backslash character in a string \n",
        "\n",
        "Ques no. 4 The string \"Howl's Moving Castle \" is a correct value. Why ins't the signle quote character in the \n",
        "          world Howl's not escaped a problem?\n",
        "Ans:- The string \"Howl's Moving Castle \" escaped the problem because it is wrapped inside a double quotes. If its \n",
        "      wrapped inside single quote in the final output \n",
        "      'Howl\\'s Moving Castle ' -> 'Howl's Moving Castle 'S\n",
        "\n",
        "Ques no.5 How do you write a string of newlines if you don't want to use the n character?\n",
        "Ans:- Multiline string allow you to use newlines in string without the \\n escape character.\n",
        "          \n",
        "      \"\"\""
      ]
    },
    {
      "cell_type": "code",
      "source": [
        "#example \n",
        "a = ''' I am working in Oppo \n",
        "          company '''\n",
        "print(a)"
      ],
      "metadata": {
        "colab": {
          "base_uri": "https://localhost:8080/"
        },
        "id": "r0ZMh347mMWh",
        "outputId": "834416c1-b963-40c4-ee3c-f912bc7b3af7"
      },
      "execution_count": null,
      "outputs": [
        {
          "output_type": "stream",
          "name": "stdout",
          "text": [
            " I am working in Oppo \n",
            "          company \n"
          ]
        }
      ]
    },
    {
      "cell_type": "code",
      "source": [],
      "metadata": {
        "id": "SCIbMmkhnXyR"
      },
      "execution_count": null,
      "outputs": []
    },
    {
      "cell_type": "code",
      "source": [
        "\"\"\"\n",
        "Ques no. 6 What are the values of the given expressions ?\n",
        "Ans:- 'Hello, world![1]'\n",
        "      'Hello, world![0:5]'\n",
        "      'Hello, world![:5]'\n",
        "      'Hello, world![3:]\n",
        "      \"\"\"'\n",
        "\n",
        "\n",
        "\n"
      ],
      "metadata": {
        "id": "zVOnItCEf4oi"
      },
      "execution_count": null,
      "outputs": []
    },
    {
      "cell_type": "code",
      "source": [
        "  'Hello, world!'[1],\n",
        "  \n",
        "\n",
        "      \n",
        "      "
      ],
      "metadata": {
        "colab": {
          "base_uri": "https://localhost:8080/",
          "height": 35
        },
        "id": "rZpiqpVfnbK7",
        "outputId": "8ab96193-b497-43f1-913c-4e24eeca1441"
      },
      "execution_count": null,
      "outputs": [
        {
          "output_type": "execute_result",
          "data": {
            "text/plain": [
              "'lo, world!'"
            ],
            "application/vnd.google.colaboratory.intrinsic+json": {
              "type": "string"
            }
          },
          "metadata": {},
          "execution_count": 9
        }
      ]
    },
    {
      "cell_type": "code",
      "source": [
        "'Hello, world!'[0:5]"
      ],
      "metadata": {
        "colab": {
          "base_uri": "https://localhost:8080/",
          "height": 35
        },
        "id": "PAeu2Iwlnox-",
        "outputId": "a4b07e04-cf12-4ff3-e658-87c771df4bb5"
      },
      "execution_count": null,
      "outputs": [
        {
          "output_type": "execute_result",
          "data": {
            "text/plain": [
              "'Hello'"
            ],
            "application/vnd.google.colaboratory.intrinsic+json": {
              "type": "string"
            }
          },
          "metadata": {},
          "execution_count": 10
        }
      ]
    },
    {
      "cell_type": "code",
      "source": [
        "'Hello, world!'[:5]"
      ],
      "metadata": {
        "colab": {
          "base_uri": "https://localhost:8080/",
          "height": 35
        },
        "id": "9h9oBGSipgcE",
        "outputId": "a4a04e7e-48cc-4745-d3f8-890342c6b6fa"
      },
      "execution_count": null,
      "outputs": [
        {
          "output_type": "execute_result",
          "data": {
            "text/plain": [
              "'Hello'"
            ],
            "application/vnd.google.colaboratory.intrinsic+json": {
              "type": "string"
            }
          },
          "metadata": {},
          "execution_count": 11
        }
      ]
    },
    {
      "cell_type": "code",
      "source": [
        "'Hello, world!'[3:]"
      ],
      "metadata": {
        "colab": {
          "base_uri": "https://localhost:8080/",
          "height": 35
        },
        "id": "ziWFsbP1pir0",
        "outputId": "4401468e-0e8a-44f8-a258-d1ea63050114"
      },
      "execution_count": null,
      "outputs": [
        {
          "output_type": "execute_result",
          "data": {
            "text/plain": [
              "'lo, world!'"
            ],
            "application/vnd.google.colaboratory.intrinsic+json": {
              "type": "string"
            }
          },
          "metadata": {},
          "execution_count": 12
        }
      ]
    },
    {
      "cell_type": "code",
      "source": [
        "\"\"\"\n",
        "Ques no. 7 What are the values of the following expressions ?\n",
        "         'Hello'.upper()\n",
        "         'Hello'.upper().isupper()\n",
        "         'Hello'.upper().lower()\n",
        "Ans:- The values for the given expression are:\n",
        "   \"\"\""
      ],
      "metadata": {
        "id": "OA8C16i3pkbz"
      },
      "execution_count": null,
      "outputs": []
    },
    {
      "cell_type": "code",
      "source": [
        "'Hello'.upper()"
      ],
      "metadata": {
        "colab": {
          "base_uri": "https://localhost:8080/",
          "height": 35
        },
        "id": "V1JdeY9nqhiQ",
        "outputId": "c147acd8-ff78-4342-b312-9887f5527812"
      },
      "execution_count": null,
      "outputs": [
        {
          "output_type": "execute_result",
          "data": {
            "text/plain": [
              "'HELLO'"
            ],
            "application/vnd.google.colaboratory.intrinsic+json": {
              "type": "string"
            }
          },
          "metadata": {},
          "execution_count": 13
        }
      ]
    },
    {
      "cell_type": "code",
      "source": [
        " 'Hello'.upper().isupper()"
      ],
      "metadata": {
        "colab": {
          "base_uri": "https://localhost:8080/"
        },
        "id": "n78Yu3USqjPr",
        "outputId": "511d7a58-af94-428a-e657-03c08a1d7686"
      },
      "execution_count": null,
      "outputs": [
        {
          "output_type": "execute_result",
          "data": {
            "text/plain": [
              "True"
            ]
          },
          "metadata": {},
          "execution_count": 14
        }
      ]
    },
    {
      "cell_type": "code",
      "source": [
        "'Hello'.upper().lower()"
      ],
      "metadata": {
        "colab": {
          "base_uri": "https://localhost:8080/",
          "height": 35
        },
        "id": "hDzRcLTKqlaA",
        "outputId": "f61b1cfd-4868-41c3-d9d8-8556a7ab7c49"
      },
      "execution_count": null,
      "outputs": [
        {
          "output_type": "execute_result",
          "data": {
            "text/plain": [
              "'hello'"
            ],
            "application/vnd.google.colaboratory.intrinsic+json": {
              "type": "string"
            }
          },
          "metadata": {},
          "execution_count": 15
        }
      ]
    },
    {
      "cell_type": "code",
      "source": [
        "\"\"\"\n",
        "Ques no. What are the values of the following expression ?\n",
        "        'Remember, remember, the fifth of july'.split()\n",
        "        -join('There can only one'.split())\n",
        "Ans:- The  values for the given expression are:\n",
        "\"\"\""
      ],
      "metadata": {
        "id": "0_pGdc2oqn1n"
      },
      "execution_count": null,
      "outputs": []
    },
    {
      "cell_type": "code",
      "source": [
        "'Remember, remember, the fifth of july'.split()\n"
      ],
      "metadata": {
        "colab": {
          "base_uri": "https://localhost:8080/"
        },
        "id": "0OJb-0-dra98",
        "outputId": "008ef8d8-0d00-4dda-c1f7-4fcadf8b7429"
      },
      "execution_count": null,
      "outputs": [
        {
          "output_type": "execute_result",
          "data": {
            "text/plain": [
              "['Remember,', 'remember,', 'the', 'fifth', 'of', 'july']"
            ]
          },
          "metadata": {},
          "execution_count": 17
        }
      ]
    },
    {
      "cell_type": "code",
      "source": [
        "'-'.join('There can only one'.split())"
      ],
      "metadata": {
        "colab": {
          "base_uri": "https://localhost:8080/",
          "height": 35
        },
        "id": "XvMMr2gArdNX",
        "outputId": "21f8dc0c-4274-48b6-d4a6-28d1252543ca"
      },
      "execution_count": null,
      "outputs": [
        {
          "output_type": "execute_result",
          "data": {
            "text/plain": [
              "'There-can-only-one'"
            ],
            "application/vnd.google.colaboratory.intrinsic+json": {
              "type": "string"
            }
          },
          "metadata": {},
          "execution_count": 21
        }
      ]
    },
    {
      "cell_type": "code",
      "source": [
        "\"\"\"\n",
        "Ques no 9 What are the methods for right-justifying, left-justifying and centering a string ?\n",
        "Ans:- The rjust(),ljust(),center() sting methods , respectively\n",
        "\n",
        "Ques no.10 What is the best way to remove whitespace characters from the start or end ?\n",
        "Ans:- The lstrip() and rstrip() methods remove whitespace characters from the left and the right ends of a string \n",
        "      respectively\n",
        "      \"\"\""
      ],
      "metadata": {
        "id": "sOD9CVoMrkeL"
      },
      "execution_count": null,
      "outputs": []
    }
  ]
}