{
  "nbformat": 4,
  "nbformat_minor": 0,
  "metadata": {
    "colab": {
      "provenance": [],
      "authorship_tag": "ABX9TyPuikUcRE4zJz7akMPMxBhE",
      "include_colab_link": true
    },
    "kernelspec": {
      "name": "python3",
      "display_name": "Python 3"
    },
    "language_info": {
      "name": "python"
    }
  },
  "cells": [
    {
      "cell_type": "markdown",
      "metadata": {
        "id": "view-in-github",
        "colab_type": "text"
      },
      "source": [
        "<a href=\"https://colab.research.google.com/github/Rakib-datascince/Ineuron_assignment/blob/main/Assignment_no_10_.ipynb\" target=\"_parent\"><img src=\"https://colab.research.google.com/assets/colab-badge.svg\" alt=\"Open In Colab\"/></a>"
      ]
    },
    {
      "cell_type": "code",
      "execution_count": null,
      "metadata": {
        "id": "1evQ5Zh2lkT9"
      },
      "outputs": [],
      "source": [
        "\"\"\"\n",
        "Ques no.1 How do you distinguish between shutil.copy() and shutil.copytree() ?\n",
        "Ans:-shutil.copy() method is used to copy the contents of a file from one file to another /folder, it primary takes two arguments src,dest,src represents the file to be \n",
        "     copied where as destination refers to the file /folder to where the src data should be copied ,if dest is a folder name the src with exact name will be copied to \n",
        "     dest folder , if its a file then the contents of src will be copied to dest where dest retains it name.\n",
        "     shutil.copytree() function is used to copy the entire contents of a folder to other folder .it also takes two arguments src and dest ,it copies all the content \n",
        "     recursively and stores it in dest. The important catch here is dest must not exist prior to this and it will be created during the copy operation. Permissions and \n",
        "     times of directories are copied with shutil.copystat() and individual files are copied using shutil.copy2() by default which can be modified using copy_function \n",
        "     attribute.\n",
        "\n",
        "Ques no.2 What function is used to rename files ?\n",
        "Ans:-os.rename() function is used to rename files or directories using a python program, this function takes two arguments src and dest ,src represents the name file /directory\n",
        "     which we want to rename , whereas dest represents the  new name of the file/directory.\n",
        "\n",
        "Ques no.3 What is the differences between the delete functions in the send2trash and shutil modules ?\n",
        "Ans:-Shutil modules provides a funtions called as shutil.rmtree() which deletes a directory and all its contents. The ohter functions with similar fucntionality are os.remove()\n",
        "      -> removes a file, os.rmdir() removes a empty directory . The problem with these function is once is deleted. It will be lost permanently, if   a file is deleted accidentally \n",
        "      using these methods there is no way we can recover the deleted .\n",
        "      Where as send2trash module provides a fucntion called \n",
        "      send2trach.send2trash() to delete a file/directory .These methods moves the file/directory to trash folder instead of permanent deleting them. Hence if a file/folder\n",
        "      is deleted accidently it can be still recovered from trash folder , if is deleted using the sent2trash.send2trash() function. send2.trash is not included with python \n",
        "      standard library like os and shutil molules. It needs to be installed explicitly using the command !pip install send2trash.\n",
        "      \n",
        "Ques no.4 ZipFile objects have a close() method just like file objects 'close() method. What ZipFile method  is equivalent to file objects' open() methods?\n",
        "Ans:- ZipFile Module provides a method called as zipfile.ZipFile() to read and write to zipfiles. It takes arguments like file name and module name etc.\n",
        "      zipfile.ZipFile('filename',mode='r')\n",
        "\n",
        "Ques no.5 Create a programme that searches a folder tree for files with a certain file extension (such as .pdf or .jpg). Copy these files from whatever location they are in to a \n",
        "      new folder . \n",
        "\n",
        "\"\"\""
      ]
    },
    {
      "cell_type": "code",
      "source": [
        "import os\n",
        "import shutil\n",
        "\n",
        "def search_and_copy(source,destination,extensions):\n",
        "    source = os.path.abspath(source)\n",
        "    destination = os.path.abspath(destination)\n",
        "    for foldername, subfolder, filenames in os.walk(source):\n",
        "        print(f'Folder Name ➞ {foldername}',end='\\n\\n')\n",
        "        print(f'Sub Folders ➞ {subfolder}',end='\\n\\n')\n",
        "        print(f'Files ➞ {filenames}',end='\\n\\n')\n",
        "        for filename in filenames:\n",
        "            fileName,extension = os.path.splitext(filename)\n",
        "            if extension in extensions:\n",
        "                targetFile = foldername+os.path.sep+fileName+extension\n",
        "                shutil.copy(targetFile, destination)\n",
        "        print(f'Files copied successfully from {source} to {destination}')\n",
        "    \n",
        "extensions = ['.pdf','.jpg','.ipynb']\n",
        "source = 'Dummy Source'\n",
        "destination = 'Dummy Destination'\n",
        "search_and_copy(source, destination, extensions)"
      ],
      "metadata": {
        "id": "yWDHf8DPjCJs"
      },
      "execution_count": 1,
      "outputs": []
    },
    {
      "cell_type": "code",
      "source": [],
      "metadata": {
        "id": "F9AjsqL9jDrD"
      },
      "execution_count": null,
      "outputs": []
    }
  ]
}