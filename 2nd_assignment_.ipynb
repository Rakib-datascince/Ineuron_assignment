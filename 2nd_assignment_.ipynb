{
  "nbformat": 4,
  "nbformat_minor": 0,
  "metadata": {
    "colab": {
      "provenance": [],
      "authorship_tag": "ABX9TyPtSeLgR/7BeZkiyN/F/089",
      "include_colab_link": true
    },
    "kernelspec": {
      "name": "python3",
      "display_name": "Python 3"
    },
    "language_info": {
      "name": "python"
    }
  },
  "cells": [
    {
      "cell_type": "markdown",
      "metadata": {
        "id": "view-in-github",
        "colab_type": "text"
      },
      "source": [
        "<a href=\"https://colab.research.google.com/github/Rakib-datascince/Ineuron_assignment/blob/main/2nd_assignment_.ipynb\" target=\"_parent\"><img src=\"https://colab.research.google.com/assets/colab-badge.svg\" alt=\"Open In Colab\"/></a>"
      ]
    },
    {
      "cell_type": "code",
      "execution_count": null,
      "metadata": {
        "id": "HiDGx1pkXVM3"
      },
      "outputs": [],
      "source": [
        "\"\"\"Ques no. 1 What are the two values of boolean data types ? How do you write them?\n",
        "Ans:- Ture and False are two values of the boolean data types. WE have to use capital T and F and with rest of the word in lowercase\"\"\""
      ]
    },
    {
      "cell_type": "code",
      "source": [
        "#example\n",
        "a = True \n",
        "b = False\n",
        "print(a,type(a))\n",
        "print(b,type(b))"
      ],
      "metadata": {
        "colab": {
          "base_uri": "https://localhost:8080/"
        },
        "id": "uZRbDFc6Y79I",
        "outputId": "4ce0af92-01ca-4fcd-b355-65ea003caa79"
      },
      "execution_count": null,
      "outputs": [
        {
          "output_type": "stream",
          "name": "stdout",
          "text": [
            "True <class 'bool'>\n",
            "False <class 'bool'>\n"
          ]
        }
      ]
    },
    {
      "cell_type": "code",
      "source": [
        "\"\"\"Ques no. 2 What are the three types of Boolean operators ?\n",
        "Ans:- The three types of boolean operators in python are:\n",
        "      or , and , not\"\"\""
      ],
      "metadata": {
        "id": "s0YE5R5NZMI_"
      },
      "execution_count": null,
      "outputs": []
    },
    {
      "cell_type": "code",
      "source": [
        "#example\n",
        "a = 399\n",
        "b = 599\n",
        "print(a>49 and b>88)#or operators \n",
        "print(a>44 or b>44)# and operators \n",
        "print(not(a>44)) #not operators"
      ],
      "metadata": {
        "colab": {
          "base_uri": "https://localhost:8080/"
        },
        "id": "InJmez-xZx4p",
        "outputId": "e82196d1-cf78-4c7e-8f12-b703665509a0"
      },
      "execution_count": null,
      "outputs": [
        {
          "output_type": "stream",
          "name": "stdout",
          "text": [
            "True\n",
            "True\n",
            "False\n"
          ]
        }
      ]
    },
    {
      "cell_type": "code",
      "source": [
        "\"\"\"Ques no. 3 Make a list of each boolean operator's truth tables(i.e. every possibe combination of boolean values for the operator and what it evaluate)?\n",
        "Ans:- The truth tables for the boolean tables are as follows :\n",
        "\n",
        "* Truth table for and operator\n",
        "  True and True is True\n",
        "  True and False is False\n",
        "  False and True is False \n",
        "  False and False is False\n",
        "\n",
        "* Truth table for or operator\n",
        "  True and True is True\n",
        "  True and False is True\n",
        "  False and True is True\n",
        "  False and False is False\n",
        "\n",
        "\n",
        "* Truth table not   operator\n",
        "  True not is False False not is  True\n",
        "\n",
        "\n",
        "\n",
        "Ques no. 4 What are the values of the following expression ?\n",
        "       * (5>4) and (3==5)\n",
        "       * not (5>4)\n",
        "       * (5>4) or (3==5)\n",
        "       * not ((5>4) or (3==5))\n",
        "       * (True and True ) and (True == False)\n",
        "       * (not False ) or (not True)\"\"\""
      ],
      "metadata": {
        "id": "lxFNR097aNiI"
      },
      "execution_count": null,
      "outputs": []
    },
    {
      "cell_type": "code",
      "source": [
        "print((5>4) and (3==5))\n",
        "print(not (5>4))\n",
        "print((5>4) or (3==5))\n",
        "print((5>4) or (3==5))\n",
        "print(not ((5>4) or (3==5)))\n",
        "print((True and True ) and (True == False))\n",
        "print( (not False ) or (not True))"
      ],
      "metadata": {
        "colab": {
          "base_uri": "https://localhost:8080/"
        },
        "id": "FPVdShcCe8NQ",
        "outputId": "4b0af40f-379a-48db-ee8f-39f715954987"
      },
      "execution_count": null,
      "outputs": [
        {
          "output_type": "stream",
          "name": "stdout",
          "text": [
            "False\n",
            "False\n",
            "True\n",
            "True\n",
            "False\n",
            "False\n",
            "True\n"
          ]
        }
      ]
    },
    {
      "cell_type": "code",
      "source": [
        "\"\"\"\n",
        "Ques no. 5 What are the six comparision operatore ?\n",
        "Ans:- The six comparisson operators available in python are:\n",
        "      == , != , < , > , <= , > = \n",
        "\n",
        "Ques no. 6 How do you tell the difference between the eual to and assignment operators ? Describe a condition and when you would use one? \n",
        "Ans:- == is the equal to operator that compares two values and evaluates  to a boolean , \n",
        "      While = is the assignment operator that  stores a value in variable \"\"\""
      ],
      "metadata": {
        "id": "miDdjBshgwH4"
      },
      "execution_count": null,
      "outputs": []
    },
    {
      "cell_type": "code",
      "source": [
        "a = 3 # Assigning operator that stores 3 values in a variable a \n",
        "if a == 3: # comparing value of variable  value and 3 \n",
        "  print(a)\n",
        "print(a==3)"
      ],
      "metadata": {
        "colab": {
          "base_uri": "https://localhost:8080/"
        },
        "id": "q5D14f3LiOEb",
        "outputId": "9b5335e2-15c4-43d0-a299-fcdd48668e66"
      },
      "execution_count": null,
      "outputs": [
        {
          "output_type": "stream",
          "name": "stdout",
          "text": [
            "3\n",
            "True\n"
          ]
        }
      ]
    },
    {
      "cell_type": "code",
      "source": [
        "\"\"\"\n",
        "Ques no. 7 Identify the three block in this code :\n",
        "          spam = 0 \n",
        "          if spam == 0 \n",
        "          print('eggs')\n",
        "          if spam > 5:\n",
        "          print('bacon')\n",
        "          else :\n",
        "          print('ham')\n",
        "          print('spam')\n",
        "          print('spam')\n",
        "\n",
        "Ans:- In python , code block refers to a collection of code that is in the same block or indent. This is most commonly found in classes, functions and loops.\n",
        "\n",
        "\"\"\""
      ],
      "metadata": {
        "id": "Hz_hKasniteP"
      },
      "execution_count": null,
      "outputs": []
    },
    {
      "cell_type": "code",
      "source": [
        "spam = 0 \n",
        "if spam == 10 : \n",
        "  print('eggs')\n",
        "if spam > 5 :\n",
        "  print('bacon')\n",
        "else:\n",
        "  print('ham')\n",
        "  print('spam')\n",
        "  print('spam')"
      ],
      "metadata": {
        "colab": {
          "base_uri": "https://localhost:8080/"
        },
        "id": "VPBYSr3QRs-v",
        "outputId": "c7a40c01-8da2-4ea0-dc89-6af77d59603d"
      },
      "execution_count": null,
      "outputs": [
        {
          "output_type": "stream",
          "name": "stdout",
          "text": [
            "ham\n",
            "spam\n",
            "spam\n"
          ]
        }
      ]
    },
    {
      "cell_type": "code",
      "source": [
        "\"\"\"\n",
        "Ques no. 8 Write code that prints Hello if 1 is stored in spam , prints Howly if 2 is stored in spam , and prints Greetings ! if anything else is stored in spam.\n",
        "\"\"\""
      ],
      "metadata": {
        "id": "_ncFFRpnSaeN"
      },
      "execution_count": null,
      "outputs": []
    },
    {
      "cell_type": "code",
      "source": [
        "#Ans no. 8 \n",
        "def spamcode(spam):\n",
        "  if spam == 1 :\n",
        "    print(\"hello\")\n",
        "  elif spam == 2 :\n",
        "    print(\"Howdy\")\n",
        "  else:\n",
        "    print(\"greeting\")\n",
        "\n",
        "\n",
        "spamcode(1)\n",
        "spamcode(2)\n",
        "spamcode(3)\n"
      ],
      "metadata": {
        "colab": {
          "base_uri": "https://localhost:8080/"
        },
        "id": "LITTuCn0TILG",
        "outputId": "5d1a0c33-33d6-4767-d940-d73de1cf407f"
      },
      "execution_count": null,
      "outputs": [
        {
          "output_type": "stream",
          "name": "stdout",
          "text": [
            "hello\n",
            "Howdy\n",
            "greeting\n"
          ]
        }
      ]
    },
    {
      "cell_type": "code",
      "source": [
        "\"\"\"Ques no. 9 if your programme is stuck in an endless loop, what keys you'll press ?\n",
        "Ans:- Press Ctrl-c to stop  a program stuck in an infinite loop\"\"\""
      ],
      "metadata": {
        "id": "y-8wgSpeT2tO"
      },
      "execution_count": null,
      "outputs": []
    },
    {
      "cell_type": "code",
      "source": [
        "\"\"\"\n",
        "Ques no. 10 How can you tell the difference between break and continue ?\n",
        "Ans:- The break statement will move the execution outside the loop if break condition is satisfied . Whereas the continue statement will move the execution to the start of \n",
        "      the loop. \"\"\""
      ],
      "metadata": {
        "id": "M_v__dPQUbKJ"
      },
      "execution_count": null,
      "outputs": []
    },
    {
      "cell_type": "code",
      "source": [
        "\"\"\"\n",
        "Ques no. 11 In a for loop, what is the difference between range(10), range(0,10), and range(0,10,1)?\n",
        "Ans:- The difference between are as follows:\n",
        "      1. The range(10) call range from 0 to 9 (but not include 10 )\n",
        "      2. The range(0,10) explicity tells the loop to start at 0 .\n",
        "      3. The range(0,10,1) explicity tells the loop to increase the variable by 1 on each iteration .\n",
        "      \n",
        "Ques no. 12 Write a short program that prints the numbers 1 to 10 using a for loop. Then write an equivalent program that prints the number 1 to 10 using a while loop?\n",
        "\"\"\""
      ],
      "metadata": {
        "id": "WRUGs1vKVI83"
      },
      "execution_count": null,
      "outputs": []
    },
    {
      "cell_type": "code",
      "source": [
        "#Ans no. 12  \n",
        "print('*'*10, 'Using for loop','*'*10)\n",
        "for i in range(1,11):\n",
        "  print(i)\n",
        "print('\\n')\n",
        "print('*'*10, 'Using while loop', '*'*10)\n",
        "i = 1 \n",
        "while i <=10: \n",
        "  print(i)\n",
        "  i = i+1"
      ],
      "metadata": {
        "colab": {
          "base_uri": "https://localhost:8080/"
        },
        "id": "4E20rgJxXQII",
        "outputId": "5315509a-2f1e-40e8-88ef-dad0ade18d54"
      },
      "execution_count": null,
      "outputs": [
        {
          "output_type": "stream",
          "name": "stdout",
          "text": [
            "********** Using for loop **********\n",
            "1\n",
            "2\n",
            "3\n",
            "4\n",
            "5\n",
            "6\n",
            "7\n",
            "8\n",
            "9\n",
            "10\n",
            "\n",
            "\n",
            "********** Using while loop **********\n",
            "1\n",
            "2\n",
            "3\n",
            "4\n",
            "5\n",
            "6\n",
            "7\n",
            "8\n",
            "9\n",
            "10\n"
          ]
        }
      ]
    },
    {
      "cell_type": "code",
      "source": [],
      "metadata": {
        "id": "FjTz95pBWSbW"
      },
      "execution_count": null,
      "outputs": []
    },
    {
      "cell_type": "code",
      "source": [
        "\"\"\"Ques no. 13 If you had a function named bacon() inside a module named spam, how would you call it after importing spam?\n",
        "Ans:- This fuction can be called with spam.bacon()\"\"\""
      ],
      "metadata": {
        "id": "Hyr_QWo-Y1TG"
      },
      "execution_count": null,
      "outputs": []
    },
    {
      "cell_type": "code",
      "source": [],
      "metadata": {
        "id": "OQoHn0v_ZMdO"
      },
      "execution_count": null,
      "outputs": []
    }
  ]
}