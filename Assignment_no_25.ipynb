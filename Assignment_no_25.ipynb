{
  "nbformat": 4,
  "nbformat_minor": 0,
  "metadata": {
    "colab": {
      "provenance": [],
      "authorship_tag": "ABX9TyOvVcO1eO02Nj4N3R2Bdhu3",
      "include_colab_link": true
    },
    "kernelspec": {
      "name": "python3",
      "display_name": "Python 3"
    },
    "language_info": {
      "name": "python"
    }
  },
  "cells": [
    {
      "cell_type": "markdown",
      "metadata": {
        "id": "view-in-github",
        "colab_type": "text"
      },
      "source": [
        "<a href=\"https://colab.research.google.com/github/Rakib-datascince/Ineuron_assignment/blob/main/Assignment_no_25.ipynb\" target=\"_parent\"><img src=\"https://colab.research.google.com/assets/colab-badge.svg\" alt=\"Open In Colab\"/></a>"
      ]
    },
    {
      "cell_type": "code",
      "execution_count": 1,
      "metadata": {
        "colab": {
          "base_uri": "https://localhost:8080/",
          "height": 53
        },
        "id": "cpD68Ad9ZmPw",
        "outputId": "5088481a-18b9-49d1-9b48-866eb10a1c6e"
      },
      "outputs": [
        {
          "output_type": "execute_result",
          "data": {
            "text/plain": [
              "'\\n1) . What is the difference between enclosing a list comprehension in square brackets and parentheses?\\nAns: Enclosing a list comprehension in square brackets returns a list.but where as enclosing a list comprehension in parentheses returns a generator object'"
            ],
            "application/vnd.google.colaboratory.intrinsic+json": {
              "type": "string"
            }
          },
          "metadata": {},
          "execution_count": 1
        }
      ],
      "source": [
        "\"\"\"\n",
        "1) . What is the difference between enclosing a list comprehension in square brackets and parentheses?\n",
        "Ans: Enclosing a list comprehension in square brackets returns a list.but where as enclosing a list comprehension in parentheses returns a generator object\"\"\""
      ]
    },
    {
      "cell_type": "code",
      "source": [
        "l = [ele for ele in range(10)]\n",
        "print(l, type(l))\n",
        "g = (ele for ele in range(10))\n",
        "print(g, type(g))"
      ],
      "metadata": {
        "colab": {
          "base_uri": "https://localhost:8080/"
        },
        "id": "SDhoExK6ZyNL",
        "outputId": "cd5f7302-6eca-465f-c2f8-a2db61d10490"
      },
      "execution_count": 2,
      "outputs": [
        {
          "output_type": "stream",
          "name": "stdout",
          "text": [
            "[0, 1, 2, 3, 4, 5, 6, 7, 8, 9] <class 'list'>\n",
            "<generator object <genexpr> at 0x7f5b1c3d4ac0> <class 'generator'>\n"
          ]
        }
      ]
    },
    {
      "cell_type": "code",
      "source": [
        "\"\"\"\n",
        "2) What is the relationship between generators and iterators?\n",
        "Ans: An iterator is an object which contains a countable number of values and it is used to iterate over iterable objects like list, tuples, sets, etc. Iterators are implemented using a \n",
        "class. It follows lazy evaluation where the evaluation of the expression will be on hold and stored in the memory until the item is called specifically which helps us to avoid repeated \n",
        "evaluation. As lazy evaluation is implemented, it requires only 1 memory location to process the value and when we are using a large dataset then, wastage of RAM space will be reduced the \n",
        "need to load the entire dataset at the same time will not be there.For an iterator: iter() keyword is used to create an iterator containing an iterable object.next() keyword is used to call\n",
        " the next element in the iterable object.\n",
        "\n",
        "Similarly Generators are an another way of creating iterators in a simple way where it uses the keyword yield statement instead of return statement in a defined function.Generators are \n",
        "implemented using a function. Just as iterators, generators also follow lazy evaluation. Here, the yield function returns the data without affecting or exiting the function. It will return \n",
        "a sequence of data in an iterable format where we need to iterate over the sequence to use the data as they won’t store the entire sequence in the memory.\"\"\""
      ],
      "metadata": {
        "colab": {
          "base_uri": "https://localhost:8080/",
          "height": 122
        },
        "id": "i9NmphaQZ036",
        "outputId": "ef897994-0fd6-4970-a651-d26e4d6eddcd"
      },
      "execution_count": 3,
      "outputs": [
        {
          "output_type": "execute_result",
          "data": {
            "text/plain": [
              "'\\n2) What is the relationship between generators and iterators?\\nAns: An iterator is an object which contains a countable number of values and it is used to iterate over iterable objects like list, tuples, sets, etc. Iterators are implemented using a \\nclass. It follows lazy evaluation where the evaluation of the expression will be on hold and stored in the memory until the item is called specifically which helps us to avoid repeated \\nevaluation. As lazy evaluation is implemented, it requires only 1 memory location to process the value and when we are using a large dataset then, wastage of RAM space will be reduced the \\nneed to load the entire dataset at the same time will not be there.For an iterator: iter() keyword is used to create an iterator containing an iterable object.next() keyword is used to call\\n the next element in the iterable object.\\n\\nSimilarly Generators are an another way of creating iterators in a simple way where it uses the keyword yield statement instead of return statement in a defined function.Generators are \\nimplemented using a function. Just as iterators, generators also follow lazy evaluation. Here, the yield function returns the data without affecting or exiting the function. It will return \\na sequence of data in an iterable format where we need to iterate over the sequence to use the data as they won’t store the entire sequence in the memory.'"
            ],
            "application/vnd.google.colaboratory.intrinsic+json": {
              "type": "string"
            }
          },
          "metadata": {},
          "execution_count": 3
        }
      ]
    },
    {
      "cell_type": "code",
      "source": [
        "# Example of iterartor\n",
        "iter_str = iter(['iNeuron','Full','Stack','Data Science'])\n",
        "print(type(iter_str))\n",
        "print(next(iter_str))\n",
        "print(next(iter_str))\n",
        "print(next(iter_str))\n",
        "print(next(iter_str))\n",
        "print(iter_str) # After the iterable object is completed, to use them again we have reassign them to the same object.\n",
        "\n",
        "# Example of Generator\n",
        "def cube_numbers(in_num):\n",
        "    for ele in range(in_num+1):\n",
        "        yield ele**3\n",
        "\n",
        "out_num = cube_numbers(4)\n",
        "print(next(out_num))\n",
        "print(next(out_num))\n",
        "print(next(out_num))\n",
        "print(next(out_num))\n",
        "print(next(out_num))"
      ],
      "metadata": {
        "colab": {
          "base_uri": "https://localhost:8080/"
        },
        "id": "KWn46F_GZ3OZ",
        "outputId": "059f2c26-b5f8-42d5-834c-314b674803ce"
      },
      "execution_count": 4,
      "outputs": [
        {
          "output_type": "stream",
          "name": "stdout",
          "text": [
            "<class 'list_iterator'>\n",
            "iNeuron\n",
            "Full\n",
            "Stack\n",
            "Data Science\n",
            "<list_iterator object at 0x7f5b19991df0>\n",
            "0\n",
            "1\n",
            "8\n",
            "27\n",
            "64\n"
          ]
        }
      ]
    },
    {
      "cell_type": "code",
      "source": [
        "\"\"\"\n",
        "3) What are the signs that a function is a generator function?\n",
        "Ans: A generator function uses a yield statement instead of a return statement. A generator function will always return a iterable object called generator. where as a normal function can \n",
        "return a string/list/tuple/dict/NoneType ... etc\n",
        "\n",
        "4) What is the purpose of a yield statement?\n",
        "Ans: The yield statement suspends function’s execution and sends a value back to the caller, but retains enough state to enable function to resume where it is left off. When resumed, the \n",
        "function continues execution immediately after the last yield run. This allows its code to produce a series of values over time, rather than computing them at once and sending them back \n",
        "like a list.\n",
        "\n",
        "5) What is the relationship between map calls and list comprehensions? Make a comparison and contrast between the two ?\n",
        "Ans: The main differences between map calls and list comprehensiosn are:\n",
        "\n",
        "1)List comprehension is more concise and easier to read as compared to map.\n",
        "2)List comprehension allows filtering. In map, we have no such facility. For example, to print all odd numbers in range of 50, we can write [n for n in range(50) if n%2 != 0]. There is no \n",
        "  alternate for it in map\n",
        "3)List comprehension are used when a list of results is required as final output.but map only returns a map object. it needs to be explicitly coverted to desired datatype.\n",
        "4)List comprehension is faster than map when we need to evaluate expressions that are too long or complicated to express\n",
        "  Map is faster in case of calling an already defined function on a set of values.\"\"\""
      ],
      "metadata": {
        "id": "y-PKdtQ3Z5l7"
      },
      "execution_count": null,
      "outputs": []
    }
  ]
}