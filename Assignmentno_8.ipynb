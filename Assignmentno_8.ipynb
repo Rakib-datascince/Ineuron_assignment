{
  "nbformat": 4,
  "nbformat_minor": 0,
  "metadata": {
    "colab": {
      "provenance": [],
      "authorship_tag": "ABX9TyNgZSciXjXYrOw7HE7ljsya",
      "include_colab_link": true
    },
    "kernelspec": {
      "name": "python3",
      "display_name": "Python 3"
    },
    "language_info": {
      "name": "python"
    }
  },
  "cells": [
    {
      "cell_type": "markdown",
      "metadata": {
        "id": "view-in-github",
        "colab_type": "text"
      },
      "source": [
        "<a href=\"https://colab.research.google.com/github/Rakib-datascince/Ineuron_assignment/blob/main/Assignmentno_8.ipynb\" target=\"_parent\"><img src=\"https://colab.research.google.com/assets/colab-badge.svg\" alt=\"Open In Colab\"/></a>"
      ]
    },
    {
      "cell_type": "code",
      "execution_count": null,
      "metadata": {
        "id": "74vBkbKj3q58",
        "colab": {
          "base_uri": "https://localhost:8080/",
          "height": 128
        },
        "outputId": "4726bb29-76a7-4ccf-adfb-e6af53f44b8f"
      },
      "outputs": [
        {
          "output_type": "execute_result",
          "data": {
            "text/plain": [
              "\"Ques no. 1 Is the Python Standard Library included with PyinputPlus?\\nAns:- No, PyinputPlus is not a part of Python Standard Library , it nees to be installed explicity using the command !pip install PyInputPlus\\n\\nQues no.2 Why is PyInputPlus commonly imported with important with import pyinputplus as pypi?\\nAns:-You can import the module pyinputplus as pyip so that you can enter a shorter name when calling the module's function . \\n\\nQues no.3 How do you distinguish between inputInt() and inputFloat() ?\\nAns:-inputInt() function Accepts an integer value. This also takes additional parameters min, max, greaterThan and lessThan for bounds . And it always returns an int.\\n        Whereas inputFloat() function accepts a floating-point numeric value. This also takes additional min,max,greaterThan and lessThan parameters and always return a float.\\n\\nQues no.4 Using PyinputPlus, How do you ensure that the user enters a whole number 0 to 99 ?\\nAns:-PyInputPlus module provides a function called imputInt() which only return only integer values . Inorder to restrict the input 0 to 99 , I'will use parameters like min \\n     and max to ensure that user enters the values between the define range only. \\n      \\n\\n\\n\""
            ],
            "application/vnd.google.colaboratory.intrinsic+json": {
              "type": "string"
            }
          },
          "metadata": {},
          "execution_count": 2
        }
      ],
      "source": [
        "\"\"\"Ques no. 1 Is the Python Standard Library included with PyinputPlus?\n",
        "Ans:- No, PyinputPlus is not a part of Python Standard Library , it nees to be installed explicity using the command !pip install PyInputPlus\n",
        "\n",
        "Ques no.2 Why is PyInputPlus commonly imported with important with import pyinputplus as pypi?\n",
        "Ans:-You can import the module pyinputplus as pyip so that you can enter a shorter name when calling the module's function . \n",
        "\n",
        "Ques no.3 How do you distinguish between inputInt() and inputFloat() ?\n",
        "Ans:-inputInt() function Accepts an integer value. This also takes additional parameters min, max, greaterThan and lessThan for bounds . And it always returns an int.\n",
        "        Whereas inputFloat() function accepts a floating-point numeric value. This also takes additional min,max,greaterThan and lessThan parameters and always return a float.\n",
        "\n",
        "Ques no.4 Using PyinputPlus, How do you ensure that the user enters a whole number 0 to 99 ?\n",
        "Ans:-PyInputPlus module provides a function called imputInt() which only return only integer values . Inorder to restrict the input 0 to 99 , I'will use parameters like min \n",
        "     and max to ensure that user enters the values between the define range only. \n",
        "     \n",
        "       import pyinputplus as pyip \n",
        "       wholenumber = pyip.input(prompt = 'Enter a number: ' , min = 0 , max = 100 )\n",
        "       print(wholenumber)\n",
        "\n",
        "Ques no.5 What is transferred to the keyword arguments allowRegexes and blockRegexes ?\n",
        "Ans:-We can use allowRegex and blockRegexes keywords arguments to take list of regular expression strings to determine what the pyinputplus fucntion will reject  or accept \n",
        "     valid input .\n",
        "\n",
        "Ques no.6 If a blank imput is entered three times, what does inputStr(limit=3) do ?\n",
        "Ans:- The statements inputStr(limit=3) will throw two exception ValidationException and RetryLimitException. The first exception is thrown because blank values are not\n",
        "       allowed by inputStr() function by default . It we want to consider blank values as valid input ,we have to set blank = True. \n",
        "      \n",
        "      The second exception is occured because we have reached the max limit we have specified by using limit parameter . Inorder to avoid this exception we can use default \n",
        "      parameter to return a default value when max limit is reached.\n",
        "\n",
        "Ques no.7 If blank input is entered three times , what does inputStr(limit=3, dafault='hello') do?\n",
        "Ans:-Since the default parameter is set to hello. after blank input is entered three times instead of raising RetryLimitException exception . The function will return hello. \n",
        "     as response to the calling function.\n",
        "\n",
        "\n",
        "\"\"\"\n"
      ]
    },
    {
      "cell_type": "code",
      "source": [
        "T"
      ],
      "metadata": {
        "id": "PERINs5NTeXV"
      },
      "execution_count": null,
      "outputs": []
    }
  ]
}